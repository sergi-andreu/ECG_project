{
 "cells": [
  {
   "cell_type": "code",
   "execution_count": 1,
   "id": "88da2a46-2ad3-457b-a6c3-0d25fb039065",
   "metadata": {},
   "outputs": [],
   "source": [
    "import numpy as np\n",
    "import wfdb"
   ]
  },
  {
   "cell_type": "code",
   "execution_count": null,
   "id": "d1f22ad7-a53f-47b6-b4ab-a753a4af9b29",
   "metadata": {},
   "outputs": [],
   "source": []
  }
 ],
 "metadata": {
  "kernelspec": {
   "display_name": "Python [conda env:torch] *",
   "language": "python",
   "name": "conda-env-torch-py"
  },
  "language_info": {
   "codemirror_mode": {
    "name": "ipython",
    "version": 3
   },
   "file_extension": ".py",
   "mimetype": "text/x-python",
   "name": "python",
   "nbconvert_exporter": "python",
   "pygments_lexer": "ipython3",
   "version": "3.8.13"
  }
 },
 "nbformat": 4,
 "nbformat_minor": 5
}
