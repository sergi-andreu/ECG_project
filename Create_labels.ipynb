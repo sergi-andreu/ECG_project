{
 "cells": [
  {
   "cell_type": "code",
   "execution_count": 1,
   "id": "10832eec-9a4f-4658-8e7a-7d5c77a05a08",
   "metadata": {},
   "outputs": [],
   "source": [
    "import pandas as pd\n",
    "import numpy as np\n",
    "import wfdb\n",
    "import ast\n",
    "import sklearn\n",
    "from sklearn.preprocessing import OneHotEncoder"
   ]
  },
  {
   "cell_type": "code",
   "execution_count": 2,
   "id": "ea70d6f5-2eb7-4f9f-9878-e8f3f834d6c7",
   "metadata": {},
   "outputs": [],
   "source": [
    "# load and convert annotation data\n",
    "path = \"data/\"\n",
    "Y = pd.read_csv(path+'ptbxl_database.csv', index_col='ecg_id')\n",
    "Y.scp_codes = Y.scp_codes.apply(lambda x: ast.literal_eval(x))\n",
    "\n",
    "# Load scp_statements.csv for diagnostic aggregation\n",
    "agg_df = pd.read_csv(path+'scp_statements.csv', index_col=0)\n",
    "agg_df = agg_df[agg_df.diagnostic == 1]\n",
    "\n",
    "def aggregate_diagnostic(y_dic):\n",
    "    tmp = []\n",
    "    for key in y_dic.keys():\n",
    "        if key in agg_df.index:\n",
    "            tmp.append(agg_df.loc[key].diagnostic_class)\n",
    "    return list(set(tmp))\n",
    "\n",
    "# Apply diagnostic superclass\n",
    "Y['diagnostic_superclass'] = Y.scp_codes.apply(aggregate_diagnostic)"
   ]
  },
  {
   "cell_type": "code",
   "execution_count": 17,
   "id": "3227ed2e-5fa8-400f-8585-66af81316b4f",
   "metadata": {},
   "outputs": [],
   "source": [
    "from sklearn.preprocessing import MultiLabelBinarizer\n",
    "enc = MultiLabelBinarizer(classes = [\"NORM\", \"MI\", \"STTC\", \"CD\", \"HYP\"])\n",
    "\n",
    "for i in range(1, 11):\n",
    "    name = f\"data/nparrays/labels/{str(i).zfill(2)}\"\n",
    "    Y_ = Y[(Y.strat_fold == i)].diagnostic_superclass.tolist()\n",
    "    Y_ = enc.fit_transform(Y_)\n",
    "    \n",
    "    np.save(name, Y_)"
   ]
  }
 ],
 "metadata": {
  "kernelspec": {
   "display_name": "Python [conda env:torch] *",
   "language": "python",
   "name": "conda-env-torch-py"
  },
  "language_info": {
   "codemirror_mode": {
    "name": "ipython",
    "version": 3
   },
   "file_extension": ".py",
   "mimetype": "text/x-python",
   "name": "python",
   "nbconvert_exporter": "python",
   "pygments_lexer": "ipython3",
   "version": "3.8.13"
  }
 },
 "nbformat": 4,
 "nbformat_minor": 5
}
