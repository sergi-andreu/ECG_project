{
  "nbformat": 4,
  "nbformat_minor": 0,
  "metadata": {
    "colab": {
      "provenance": [],
      "collapsed_sections": []
    },
    "kernelspec": {
      "name": "python3",
      "display_name": "Python 3"
    },
    "language_info": {
      "name": "python"
    },
    "accelerator": "GPU",
    "gpuClass": "standard",
    "widgets": {
      "application/vnd.jupyter.widget-state+json": {
        "eeda873bcf884386851be9ec5b9c1561": {
          "model_module": "@jupyter-widgets/controls",
          "model_name": "VBoxModel",
          "model_module_version": "1.5.0",
          "state": {
            "_dom_classes": [],
            "_model_module": "@jupyter-widgets/controls",
            "_model_module_version": "1.5.0",
            "_model_name": "VBoxModel",
            "_view_count": null,
            "_view_module": "@jupyter-widgets/controls",
            "_view_module_version": "1.5.0",
            "_view_name": "VBoxView",
            "box_style": "",
            "children": [
              "IPY_MODEL_0aec407bc5224649aef013436b08ed82",
              "IPY_MODEL_b16ada91c24a47428a26ff1ba451639b"
            ],
            "layout": "IPY_MODEL_9d28f18124c1445f8bd186fd51aa4a47"
          }
        },
        "0aec407bc5224649aef013436b08ed82": {
          "model_module": "@jupyter-widgets/controls",
          "model_name": "LabelModel",
          "model_module_version": "1.5.0",
          "state": {
            "_dom_classes": [],
            "_model_module": "@jupyter-widgets/controls",
            "_model_module_version": "1.5.0",
            "_model_name": "LabelModel",
            "_view_count": null,
            "_view_module": "@jupyter-widgets/controls",
            "_view_module_version": "1.5.0",
            "_view_name": "LabelView",
            "description": "",
            "description_tooltip": null,
            "layout": "IPY_MODEL_944c78f1a7974c88a96e310a835fc402",
            "placeholder": "​",
            "style": "IPY_MODEL_39fea1e50fcc45549a7020cc7d8fbecf",
            "value": "0.151 MB of 0.151 MB uploaded (0.000 MB deduped)\r"
          }
        },
        "b16ada91c24a47428a26ff1ba451639b": {
          "model_module": "@jupyter-widgets/controls",
          "model_name": "FloatProgressModel",
          "model_module_version": "1.5.0",
          "state": {
            "_dom_classes": [],
            "_model_module": "@jupyter-widgets/controls",
            "_model_module_version": "1.5.0",
            "_model_name": "FloatProgressModel",
            "_view_count": null,
            "_view_module": "@jupyter-widgets/controls",
            "_view_module_version": "1.5.0",
            "_view_name": "ProgressView",
            "bar_style": "",
            "description": "",
            "description_tooltip": null,
            "layout": "IPY_MODEL_a85372cca57744bba444aea944c86fe7",
            "max": 1,
            "min": 0,
            "orientation": "horizontal",
            "style": "IPY_MODEL_dc2cff2aa35b4c159b16dca4dcd6b176",
            "value": 1
          }
        },
        "9d28f18124c1445f8bd186fd51aa4a47": {
          "model_module": "@jupyter-widgets/base",
          "model_name": "LayoutModel",
          "model_module_version": "1.2.0",
          "state": {
            "_model_module": "@jupyter-widgets/base",
            "_model_module_version": "1.2.0",
            "_model_name": "LayoutModel",
            "_view_count": null,
            "_view_module": "@jupyter-widgets/base",
            "_view_module_version": "1.2.0",
            "_view_name": "LayoutView",
            "align_content": null,
            "align_items": null,
            "align_self": null,
            "border": null,
            "bottom": null,
            "display": null,
            "flex": null,
            "flex_flow": null,
            "grid_area": null,
            "grid_auto_columns": null,
            "grid_auto_flow": null,
            "grid_auto_rows": null,
            "grid_column": null,
            "grid_gap": null,
            "grid_row": null,
            "grid_template_areas": null,
            "grid_template_columns": null,
            "grid_template_rows": null,
            "height": null,
            "justify_content": null,
            "justify_items": null,
            "left": null,
            "margin": null,
            "max_height": null,
            "max_width": null,
            "min_height": null,
            "min_width": null,
            "object_fit": null,
            "object_position": null,
            "order": null,
            "overflow": null,
            "overflow_x": null,
            "overflow_y": null,
            "padding": null,
            "right": null,
            "top": null,
            "visibility": null,
            "width": null
          }
        },
        "944c78f1a7974c88a96e310a835fc402": {
          "model_module": "@jupyter-widgets/base",
          "model_name": "LayoutModel",
          "model_module_version": "1.2.0",
          "state": {
            "_model_module": "@jupyter-widgets/base",
            "_model_module_version": "1.2.0",
            "_model_name": "LayoutModel",
            "_view_count": null,
            "_view_module": "@jupyter-widgets/base",
            "_view_module_version": "1.2.0",
            "_view_name": "LayoutView",
            "align_content": null,
            "align_items": null,
            "align_self": null,
            "border": null,
            "bottom": null,
            "display": null,
            "flex": null,
            "flex_flow": null,
            "grid_area": null,
            "grid_auto_columns": null,
            "grid_auto_flow": null,
            "grid_auto_rows": null,
            "grid_column": null,
            "grid_gap": null,
            "grid_row": null,
            "grid_template_areas": null,
            "grid_template_columns": null,
            "grid_template_rows": null,
            "height": null,
            "justify_content": null,
            "justify_items": null,
            "left": null,
            "margin": null,
            "max_height": null,
            "max_width": null,
            "min_height": null,
            "min_width": null,
            "object_fit": null,
            "object_position": null,
            "order": null,
            "overflow": null,
            "overflow_x": null,
            "overflow_y": null,
            "padding": null,
            "right": null,
            "top": null,
            "visibility": null,
            "width": null
          }
        },
        "39fea1e50fcc45549a7020cc7d8fbecf": {
          "model_module": "@jupyter-widgets/controls",
          "model_name": "DescriptionStyleModel",
          "model_module_version": "1.5.0",
          "state": {
            "_model_module": "@jupyter-widgets/controls",
            "_model_module_version": "1.5.0",
            "_model_name": "DescriptionStyleModel",
            "_view_count": null,
            "_view_module": "@jupyter-widgets/base",
            "_view_module_version": "1.2.0",
            "_view_name": "StyleView",
            "description_width": ""
          }
        },
        "a85372cca57744bba444aea944c86fe7": {
          "model_module": "@jupyter-widgets/base",
          "model_name": "LayoutModel",
          "model_module_version": "1.2.0",
          "state": {
            "_model_module": "@jupyter-widgets/base",
            "_model_module_version": "1.2.0",
            "_model_name": "LayoutModel",
            "_view_count": null,
            "_view_module": "@jupyter-widgets/base",
            "_view_module_version": "1.2.0",
            "_view_name": "LayoutView",
            "align_content": null,
            "align_items": null,
            "align_self": null,
            "border": null,
            "bottom": null,
            "display": null,
            "flex": null,
            "flex_flow": null,
            "grid_area": null,
            "grid_auto_columns": null,
            "grid_auto_flow": null,
            "grid_auto_rows": null,
            "grid_column": null,
            "grid_gap": null,
            "grid_row": null,
            "grid_template_areas": null,
            "grid_template_columns": null,
            "grid_template_rows": null,
            "height": null,
            "justify_content": null,
            "justify_items": null,
            "left": null,
            "margin": null,
            "max_height": null,
            "max_width": null,
            "min_height": null,
            "min_width": null,
            "object_fit": null,
            "object_position": null,
            "order": null,
            "overflow": null,
            "overflow_x": null,
            "overflow_y": null,
            "padding": null,
            "right": null,
            "top": null,
            "visibility": null,
            "width": null
          }
        },
        "dc2cff2aa35b4c159b16dca4dcd6b176": {
          "model_module": "@jupyter-widgets/controls",
          "model_name": "ProgressStyleModel",
          "model_module_version": "1.5.0",
          "state": {
            "_model_module": "@jupyter-widgets/controls",
            "_model_module_version": "1.5.0",
            "_model_name": "ProgressStyleModel",
            "_view_count": null,
            "_view_module": "@jupyter-widgets/base",
            "_view_module_version": "1.2.0",
            "_view_name": "StyleView",
            "bar_color": null,
            "description_width": ""
          }
        },
        "c2b1999cf3d3435a976a63d59d1f410e": {
          "model_module": "@jupyter-widgets/controls",
          "model_name": "VBoxModel",
          "model_module_version": "1.5.0",
          "state": {
            "_dom_classes": [],
            "_model_module": "@jupyter-widgets/controls",
            "_model_module_version": "1.5.0",
            "_model_name": "VBoxModel",
            "_view_count": null,
            "_view_module": "@jupyter-widgets/controls",
            "_view_module_version": "1.5.0",
            "_view_name": "VBoxView",
            "box_style": "",
            "children": [
              "IPY_MODEL_c3181935b51342328afd115003b39166",
              "IPY_MODEL_12d4cef2bad04211be4954b0fc5d252d"
            ],
            "layout": "IPY_MODEL_6dcce3003e0e458ba372069429f4f00e"
          }
        },
        "c3181935b51342328afd115003b39166": {
          "model_module": "@jupyter-widgets/controls",
          "model_name": "LabelModel",
          "model_module_version": "1.5.0",
          "state": {
            "_dom_classes": [],
            "_model_module": "@jupyter-widgets/controls",
            "_model_module_version": "1.5.0",
            "_model_name": "LabelModel",
            "_view_count": null,
            "_view_module": "@jupyter-widgets/controls",
            "_view_module_version": "1.5.0",
            "_view_name": "LabelView",
            "description": "",
            "description_tooltip": null,
            "layout": "IPY_MODEL_871c63b6cabe46748d08ca4046d2e0c7",
            "placeholder": "​",
            "style": "IPY_MODEL_dc4ebaf777c040b0a352de024f307e41",
            "value": "0.001 MB of 0.151 MB uploaded (0.000 MB deduped)\r"
          }
        },
        "12d4cef2bad04211be4954b0fc5d252d": {
          "model_module": "@jupyter-widgets/controls",
          "model_name": "FloatProgressModel",
          "model_module_version": "1.5.0",
          "state": {
            "_dom_classes": [],
            "_model_module": "@jupyter-widgets/controls",
            "_model_module_version": "1.5.0",
            "_model_name": "FloatProgressModel",
            "_view_count": null,
            "_view_module": "@jupyter-widgets/controls",
            "_view_module_version": "1.5.0",
            "_view_name": "ProgressView",
            "bar_style": "",
            "description": "",
            "description_tooltip": null,
            "layout": "IPY_MODEL_7064cb14b4784acc8d2076739738a278",
            "max": 1,
            "min": 0,
            "orientation": "horizontal",
            "style": "IPY_MODEL_2e5e8c4368134d2f81b0c3b18add2e0b",
            "value": 0.004765116323044632
          }
        },
        "6dcce3003e0e458ba372069429f4f00e": {
          "model_module": "@jupyter-widgets/base",
          "model_name": "LayoutModel",
          "model_module_version": "1.2.0",
          "state": {
            "_model_module": "@jupyter-widgets/base",
            "_model_module_version": "1.2.0",
            "_model_name": "LayoutModel",
            "_view_count": null,
            "_view_module": "@jupyter-widgets/base",
            "_view_module_version": "1.2.0",
            "_view_name": "LayoutView",
            "align_content": null,
            "align_items": null,
            "align_self": null,
            "border": null,
            "bottom": null,
            "display": null,
            "flex": null,
            "flex_flow": null,
            "grid_area": null,
            "grid_auto_columns": null,
            "grid_auto_flow": null,
            "grid_auto_rows": null,
            "grid_column": null,
            "grid_gap": null,
            "grid_row": null,
            "grid_template_areas": null,
            "grid_template_columns": null,
            "grid_template_rows": null,
            "height": null,
            "justify_content": null,
            "justify_items": null,
            "left": null,
            "margin": null,
            "max_height": null,
            "max_width": null,
            "min_height": null,
            "min_width": null,
            "object_fit": null,
            "object_position": null,
            "order": null,
            "overflow": null,
            "overflow_x": null,
            "overflow_y": null,
            "padding": null,
            "right": null,
            "top": null,
            "visibility": null,
            "width": null
          }
        },
        "871c63b6cabe46748d08ca4046d2e0c7": {
          "model_module": "@jupyter-widgets/base",
          "model_name": "LayoutModel",
          "model_module_version": "1.2.0",
          "state": {
            "_model_module": "@jupyter-widgets/base",
            "_model_module_version": "1.2.0",
            "_model_name": "LayoutModel",
            "_view_count": null,
            "_view_module": "@jupyter-widgets/base",
            "_view_module_version": "1.2.0",
            "_view_name": "LayoutView",
            "align_content": null,
            "align_items": null,
            "align_self": null,
            "border": null,
            "bottom": null,
            "display": null,
            "flex": null,
            "flex_flow": null,
            "grid_area": null,
            "grid_auto_columns": null,
            "grid_auto_flow": null,
            "grid_auto_rows": null,
            "grid_column": null,
            "grid_gap": null,
            "grid_row": null,
            "grid_template_areas": null,
            "grid_template_columns": null,
            "grid_template_rows": null,
            "height": null,
            "justify_content": null,
            "justify_items": null,
            "left": null,
            "margin": null,
            "max_height": null,
            "max_width": null,
            "min_height": null,
            "min_width": null,
            "object_fit": null,
            "object_position": null,
            "order": null,
            "overflow": null,
            "overflow_x": null,
            "overflow_y": null,
            "padding": null,
            "right": null,
            "top": null,
            "visibility": null,
            "width": null
          }
        },
        "dc4ebaf777c040b0a352de024f307e41": {
          "model_module": "@jupyter-widgets/controls",
          "model_name": "DescriptionStyleModel",
          "model_module_version": "1.5.0",
          "state": {
            "_model_module": "@jupyter-widgets/controls",
            "_model_module_version": "1.5.0",
            "_model_name": "DescriptionStyleModel",
            "_view_count": null,
            "_view_module": "@jupyter-widgets/base",
            "_view_module_version": "1.2.0",
            "_view_name": "StyleView",
            "description_width": ""
          }
        },
        "7064cb14b4784acc8d2076739738a278": {
          "model_module": "@jupyter-widgets/base",
          "model_name": "LayoutModel",
          "model_module_version": "1.2.0",
          "state": {
            "_model_module": "@jupyter-widgets/base",
            "_model_module_version": "1.2.0",
            "_model_name": "LayoutModel",
            "_view_count": null,
            "_view_module": "@jupyter-widgets/base",
            "_view_module_version": "1.2.0",
            "_view_name": "LayoutView",
            "align_content": null,
            "align_items": null,
            "align_self": null,
            "border": null,
            "bottom": null,
            "display": null,
            "flex": null,
            "flex_flow": null,
            "grid_area": null,
            "grid_auto_columns": null,
            "grid_auto_flow": null,
            "grid_auto_rows": null,
            "grid_column": null,
            "grid_gap": null,
            "grid_row": null,
            "grid_template_areas": null,
            "grid_template_columns": null,
            "grid_template_rows": null,
            "height": null,
            "justify_content": null,
            "justify_items": null,
            "left": null,
            "margin": null,
            "max_height": null,
            "max_width": null,
            "min_height": null,
            "min_width": null,
            "object_fit": null,
            "object_position": null,
            "order": null,
            "overflow": null,
            "overflow_x": null,
            "overflow_y": null,
            "padding": null,
            "right": null,
            "top": null,
            "visibility": null,
            "width": null
          }
        },
        "2e5e8c4368134d2f81b0c3b18add2e0b": {
          "model_module": "@jupyter-widgets/controls",
          "model_name": "ProgressStyleModel",
          "model_module_version": "1.5.0",
          "state": {
            "_model_module": "@jupyter-widgets/controls",
            "_model_module_version": "1.5.0",
            "_model_name": "ProgressStyleModel",
            "_view_count": null,
            "_view_module": "@jupyter-widgets/base",
            "_view_module_version": "1.2.0",
            "_view_name": "StyleView",
            "bar_color": null,
            "description_width": ""
          }
        },
        "48c8169168164396a32f5fbb53bff2dc": {
          "model_module": "@jupyter-widgets/controls",
          "model_name": "VBoxModel",
          "model_module_version": "1.5.0",
          "state": {
            "_dom_classes": [],
            "_model_module": "@jupyter-widgets/controls",
            "_model_module_version": "1.5.0",
            "_model_name": "VBoxModel",
            "_view_count": null,
            "_view_module": "@jupyter-widgets/controls",
            "_view_module_version": "1.5.0",
            "_view_name": "VBoxView",
            "box_style": "",
            "children": [
              "IPY_MODEL_587b2d0d87e94b739def3035538291ee",
              "IPY_MODEL_dddd0506a8174dff9f24190d0dfd5ee2"
            ],
            "layout": "IPY_MODEL_650e73ea9314470bb980eef559ac75bf"
          }
        },
        "587b2d0d87e94b739def3035538291ee": {
          "model_module": "@jupyter-widgets/controls",
          "model_name": "LabelModel",
          "model_module_version": "1.5.0",
          "state": {
            "_dom_classes": [],
            "_model_module": "@jupyter-widgets/controls",
            "_model_module_version": "1.5.0",
            "_model_name": "LabelModel",
            "_view_count": null,
            "_view_module": "@jupyter-widgets/controls",
            "_view_module_version": "1.5.0",
            "_view_name": "LabelView",
            "description": "",
            "description_tooltip": null,
            "layout": "IPY_MODEL_8c67d97362094d8e94540a325ccc00ac",
            "placeholder": "​",
            "style": "IPY_MODEL_c95a78b8e16940188fc41cebae842341",
            "value": "0.151 MB of 0.151 MB uploaded (0.000 MB deduped)\r"
          }
        },
        "dddd0506a8174dff9f24190d0dfd5ee2": {
          "model_module": "@jupyter-widgets/controls",
          "model_name": "FloatProgressModel",
          "model_module_version": "1.5.0",
          "state": {
            "_dom_classes": [],
            "_model_module": "@jupyter-widgets/controls",
            "_model_module_version": "1.5.0",
            "_model_name": "FloatProgressModel",
            "_view_count": null,
            "_view_module": "@jupyter-widgets/controls",
            "_view_module_version": "1.5.0",
            "_view_name": "ProgressView",
            "bar_style": "",
            "description": "",
            "description_tooltip": null,
            "layout": "IPY_MODEL_c51057883de440a58d47e63e4d7b0561",
            "max": 1,
            "min": 0,
            "orientation": "horizontal",
            "style": "IPY_MODEL_f20acdce04144cb289150b85c9b86c73",
            "value": 1
          }
        },
        "650e73ea9314470bb980eef559ac75bf": {
          "model_module": "@jupyter-widgets/base",
          "model_name": "LayoutModel",
          "model_module_version": "1.2.0",
          "state": {
            "_model_module": "@jupyter-widgets/base",
            "_model_module_version": "1.2.0",
            "_model_name": "LayoutModel",
            "_view_count": null,
            "_view_module": "@jupyter-widgets/base",
            "_view_module_version": "1.2.0",
            "_view_name": "LayoutView",
            "align_content": null,
            "align_items": null,
            "align_self": null,
            "border": null,
            "bottom": null,
            "display": null,
            "flex": null,
            "flex_flow": null,
            "grid_area": null,
            "grid_auto_columns": null,
            "grid_auto_flow": null,
            "grid_auto_rows": null,
            "grid_column": null,
            "grid_gap": null,
            "grid_row": null,
            "grid_template_areas": null,
            "grid_template_columns": null,
            "grid_template_rows": null,
            "height": null,
            "justify_content": null,
            "justify_items": null,
            "left": null,
            "margin": null,
            "max_height": null,
            "max_width": null,
            "min_height": null,
            "min_width": null,
            "object_fit": null,
            "object_position": null,
            "order": null,
            "overflow": null,
            "overflow_x": null,
            "overflow_y": null,
            "padding": null,
            "right": null,
            "top": null,
            "visibility": null,
            "width": null
          }
        },
        "8c67d97362094d8e94540a325ccc00ac": {
          "model_module": "@jupyter-widgets/base",
          "model_name": "LayoutModel",
          "model_module_version": "1.2.0",
          "state": {
            "_model_module": "@jupyter-widgets/base",
            "_model_module_version": "1.2.0",
            "_model_name": "LayoutModel",
            "_view_count": null,
            "_view_module": "@jupyter-widgets/base",
            "_view_module_version": "1.2.0",
            "_view_name": "LayoutView",
            "align_content": null,
            "align_items": null,
            "align_self": null,
            "border": null,
            "bottom": null,
            "display": null,
            "flex": null,
            "flex_flow": null,
            "grid_area": null,
            "grid_auto_columns": null,
            "grid_auto_flow": null,
            "grid_auto_rows": null,
            "grid_column": null,
            "grid_gap": null,
            "grid_row": null,
            "grid_template_areas": null,
            "grid_template_columns": null,
            "grid_template_rows": null,
            "height": null,
            "justify_content": null,
            "justify_items": null,
            "left": null,
            "margin": null,
            "max_height": null,
            "max_width": null,
            "min_height": null,
            "min_width": null,
            "object_fit": null,
            "object_position": null,
            "order": null,
            "overflow": null,
            "overflow_x": null,
            "overflow_y": null,
            "padding": null,
            "right": null,
            "top": null,
            "visibility": null,
            "width": null
          }
        },
        "c95a78b8e16940188fc41cebae842341": {
          "model_module": "@jupyter-widgets/controls",
          "model_name": "DescriptionStyleModel",
          "model_module_version": "1.5.0",
          "state": {
            "_model_module": "@jupyter-widgets/controls",
            "_model_module_version": "1.5.0",
            "_model_name": "DescriptionStyleModel",
            "_view_count": null,
            "_view_module": "@jupyter-widgets/base",
            "_view_module_version": "1.2.0",
            "_view_name": "StyleView",
            "description_width": ""
          }
        },
        "c51057883de440a58d47e63e4d7b0561": {
          "model_module": "@jupyter-widgets/base",
          "model_name": "LayoutModel",
          "model_module_version": "1.2.0",
          "state": {
            "_model_module": "@jupyter-widgets/base",
            "_model_module_version": "1.2.0",
            "_model_name": "LayoutModel",
            "_view_count": null,
            "_view_module": "@jupyter-widgets/base",
            "_view_module_version": "1.2.0",
            "_view_name": "LayoutView",
            "align_content": null,
            "align_items": null,
            "align_self": null,
            "border": null,
            "bottom": null,
            "display": null,
            "flex": null,
            "flex_flow": null,
            "grid_area": null,
            "grid_auto_columns": null,
            "grid_auto_flow": null,
            "grid_auto_rows": null,
            "grid_column": null,
            "grid_gap": null,
            "grid_row": null,
            "grid_template_areas": null,
            "grid_template_columns": null,
            "grid_template_rows": null,
            "height": null,
            "justify_content": null,
            "justify_items": null,
            "left": null,
            "margin": null,
            "max_height": null,
            "max_width": null,
            "min_height": null,
            "min_width": null,
            "object_fit": null,
            "object_position": null,
            "order": null,
            "overflow": null,
            "overflow_x": null,
            "overflow_y": null,
            "padding": null,
            "right": null,
            "top": null,
            "visibility": null,
            "width": null
          }
        },
        "f20acdce04144cb289150b85c9b86c73": {
          "model_module": "@jupyter-widgets/controls",
          "model_name": "ProgressStyleModel",
          "model_module_version": "1.5.0",
          "state": {
            "_model_module": "@jupyter-widgets/controls",
            "_model_module_version": "1.5.0",
            "_model_name": "ProgressStyleModel",
            "_view_count": null,
            "_view_module": "@jupyter-widgets/base",
            "_view_module_version": "1.2.0",
            "_view_name": "StyleView",
            "bar_color": null,
            "description_width": ""
          }
        },
        "a37181221907452eb2ad7d6eb4ec78fe": {
          "model_module": "@jupyter-widgets/controls",
          "model_name": "VBoxModel",
          "model_module_version": "1.5.0",
          "state": {
            "_dom_classes": [],
            "_model_module": "@jupyter-widgets/controls",
            "_model_module_version": "1.5.0",
            "_model_name": "VBoxModel",
            "_view_count": null,
            "_view_module": "@jupyter-widgets/controls",
            "_view_module_version": "1.5.0",
            "_view_name": "VBoxView",
            "box_style": "",
            "children": [
              "IPY_MODEL_6c9eda83120c4f53b2368ab659497a87",
              "IPY_MODEL_22c20bfe46da456caee6d89445a1603a"
            ],
            "layout": "IPY_MODEL_7e10d5d573e84ab6ab9ad7fa044d9a28"
          }
        },
        "6c9eda83120c4f53b2368ab659497a87": {
          "model_module": "@jupyter-widgets/controls",
          "model_name": "LabelModel",
          "model_module_version": "1.5.0",
          "state": {
            "_dom_classes": [],
            "_model_module": "@jupyter-widgets/controls",
            "_model_module_version": "1.5.0",
            "_model_name": "LabelModel",
            "_view_count": null,
            "_view_module": "@jupyter-widgets/controls",
            "_view_module_version": "1.5.0",
            "_view_name": "LabelView",
            "description": "",
            "description_tooltip": null,
            "layout": "IPY_MODEL_1524d287e2a94f7482dc429baad0705b",
            "placeholder": "​",
            "style": "IPY_MODEL_7d23b613f43240c79b3666e353bc9083",
            "value": "0.001 MB of 0.153 MB uploaded (0.000 MB deduped)\r"
          }
        },
        "22c20bfe46da456caee6d89445a1603a": {
          "model_module": "@jupyter-widgets/controls",
          "model_name": "FloatProgressModel",
          "model_module_version": "1.5.0",
          "state": {
            "_dom_classes": [],
            "_model_module": "@jupyter-widgets/controls",
            "_model_module_version": "1.5.0",
            "_model_name": "FloatProgressModel",
            "_view_count": null,
            "_view_module": "@jupyter-widgets/controls",
            "_view_module_version": "1.5.0",
            "_view_name": "ProgressView",
            "bar_style": "",
            "description": "",
            "description_tooltip": null,
            "layout": "IPY_MODEL_eed7395a262b44b0be7bc10e59846019",
            "max": 1,
            "min": 0,
            "orientation": "horizontal",
            "style": "IPY_MODEL_eae7c042bdb7485b87698f3095f8398b",
            "value": 0.004752460427347229
          }
        },
        "7e10d5d573e84ab6ab9ad7fa044d9a28": {
          "model_module": "@jupyter-widgets/base",
          "model_name": "LayoutModel",
          "model_module_version": "1.2.0",
          "state": {
            "_model_module": "@jupyter-widgets/base",
            "_model_module_version": "1.2.0",
            "_model_name": "LayoutModel",
            "_view_count": null,
            "_view_module": "@jupyter-widgets/base",
            "_view_module_version": "1.2.0",
            "_view_name": "LayoutView",
            "align_content": null,
            "align_items": null,
            "align_self": null,
            "border": null,
            "bottom": null,
            "display": null,
            "flex": null,
            "flex_flow": null,
            "grid_area": null,
            "grid_auto_columns": null,
            "grid_auto_flow": null,
            "grid_auto_rows": null,
            "grid_column": null,
            "grid_gap": null,
            "grid_row": null,
            "grid_template_areas": null,
            "grid_template_columns": null,
            "grid_template_rows": null,
            "height": null,
            "justify_content": null,
            "justify_items": null,
            "left": null,
            "margin": null,
            "max_height": null,
            "max_width": null,
            "min_height": null,
            "min_width": null,
            "object_fit": null,
            "object_position": null,
            "order": null,
            "overflow": null,
            "overflow_x": null,
            "overflow_y": null,
            "padding": null,
            "right": null,
            "top": null,
            "visibility": null,
            "width": null
          }
        },
        "1524d287e2a94f7482dc429baad0705b": {
          "model_module": "@jupyter-widgets/base",
          "model_name": "LayoutModel",
          "model_module_version": "1.2.0",
          "state": {
            "_model_module": "@jupyter-widgets/base",
            "_model_module_version": "1.2.0",
            "_model_name": "LayoutModel",
            "_view_count": null,
            "_view_module": "@jupyter-widgets/base",
            "_view_module_version": "1.2.0",
            "_view_name": "LayoutView",
            "align_content": null,
            "align_items": null,
            "align_self": null,
            "border": null,
            "bottom": null,
            "display": null,
            "flex": null,
            "flex_flow": null,
            "grid_area": null,
            "grid_auto_columns": null,
            "grid_auto_flow": null,
            "grid_auto_rows": null,
            "grid_column": null,
            "grid_gap": null,
            "grid_row": null,
            "grid_template_areas": null,
            "grid_template_columns": null,
            "grid_template_rows": null,
            "height": null,
            "justify_content": null,
            "justify_items": null,
            "left": null,
            "margin": null,
            "max_height": null,
            "max_width": null,
            "min_height": null,
            "min_width": null,
            "object_fit": null,
            "object_position": null,
            "order": null,
            "overflow": null,
            "overflow_x": null,
            "overflow_y": null,
            "padding": null,
            "right": null,
            "top": null,
            "visibility": null,
            "width": null
          }
        },
        "7d23b613f43240c79b3666e353bc9083": {
          "model_module": "@jupyter-widgets/controls",
          "model_name": "DescriptionStyleModel",
          "model_module_version": "1.5.0",
          "state": {
            "_model_module": "@jupyter-widgets/controls",
            "_model_module_version": "1.5.0",
            "_model_name": "DescriptionStyleModel",
            "_view_count": null,
            "_view_module": "@jupyter-widgets/base",
            "_view_module_version": "1.2.0",
            "_view_name": "StyleView",
            "description_width": ""
          }
        },
        "eed7395a262b44b0be7bc10e59846019": {
          "model_module": "@jupyter-widgets/base",
          "model_name": "LayoutModel",
          "model_module_version": "1.2.0",
          "state": {
            "_model_module": "@jupyter-widgets/base",
            "_model_module_version": "1.2.0",
            "_model_name": "LayoutModel",
            "_view_count": null,
            "_view_module": "@jupyter-widgets/base",
            "_view_module_version": "1.2.0",
            "_view_name": "LayoutView",
            "align_content": null,
            "align_items": null,
            "align_self": null,
            "border": null,
            "bottom": null,
            "display": null,
            "flex": null,
            "flex_flow": null,
            "grid_area": null,
            "grid_auto_columns": null,
            "grid_auto_flow": null,
            "grid_auto_rows": null,
            "grid_column": null,
            "grid_gap": null,
            "grid_row": null,
            "grid_template_areas": null,
            "grid_template_columns": null,
            "grid_template_rows": null,
            "height": null,
            "justify_content": null,
            "justify_items": null,
            "left": null,
            "margin": null,
            "max_height": null,
            "max_width": null,
            "min_height": null,
            "min_width": null,
            "object_fit": null,
            "object_position": null,
            "order": null,
            "overflow": null,
            "overflow_x": null,
            "overflow_y": null,
            "padding": null,
            "right": null,
            "top": null,
            "visibility": null,
            "width": null
          }
        },
        "eae7c042bdb7485b87698f3095f8398b": {
          "model_module": "@jupyter-widgets/controls",
          "model_name": "ProgressStyleModel",
          "model_module_version": "1.5.0",
          "state": {
            "_model_module": "@jupyter-widgets/controls",
            "_model_module_version": "1.5.0",
            "_model_name": "ProgressStyleModel",
            "_view_count": null,
            "_view_module": "@jupyter-widgets/base",
            "_view_module_version": "1.2.0",
            "_view_name": "StyleView",
            "bar_color": null,
            "description_width": ""
          }
        },
        "a0f44c74b8854a889912904bf9f726b8": {
          "model_module": "@jupyter-widgets/controls",
          "model_name": "VBoxModel",
          "model_module_version": "1.5.0",
          "state": {
            "_dom_classes": [],
            "_model_module": "@jupyter-widgets/controls",
            "_model_module_version": "1.5.0",
            "_model_name": "VBoxModel",
            "_view_count": null,
            "_view_module": "@jupyter-widgets/controls",
            "_view_module_version": "1.5.0",
            "_view_name": "VBoxView",
            "box_style": "",
            "children": [
              "IPY_MODEL_85d7afe8a0c34fb88fc6ec62a8fac4c1",
              "IPY_MODEL_a913d22c3af44f9caf9107bcdc1dff17"
            ],
            "layout": "IPY_MODEL_958db69f45a74b1fb399761cf012a183"
          }
        },
        "85d7afe8a0c34fb88fc6ec62a8fac4c1": {
          "model_module": "@jupyter-widgets/controls",
          "model_name": "LabelModel",
          "model_module_version": "1.5.0",
          "state": {
            "_dom_classes": [],
            "_model_module": "@jupyter-widgets/controls",
            "_model_module_version": "1.5.0",
            "_model_name": "LabelModel",
            "_view_count": null,
            "_view_module": "@jupyter-widgets/controls",
            "_view_module_version": "1.5.0",
            "_view_name": "LabelView",
            "description": "",
            "description_tooltip": null,
            "layout": "IPY_MODEL_8198c30f4dca440fa3fa34ddf428ecbd",
            "placeholder": "​",
            "style": "IPY_MODEL_5b5dd25568cf40a5b517b7661acd9ded",
            "value": "0.153 MB of 0.153 MB uploaded (0.000 MB deduped)\r"
          }
        },
        "a913d22c3af44f9caf9107bcdc1dff17": {
          "model_module": "@jupyter-widgets/controls",
          "model_name": "FloatProgressModel",
          "model_module_version": "1.5.0",
          "state": {
            "_dom_classes": [],
            "_model_module": "@jupyter-widgets/controls",
            "_model_module_version": "1.5.0",
            "_model_name": "FloatProgressModel",
            "_view_count": null,
            "_view_module": "@jupyter-widgets/controls",
            "_view_module_version": "1.5.0",
            "_view_name": "ProgressView",
            "bar_style": "",
            "description": "",
            "description_tooltip": null,
            "layout": "IPY_MODEL_32dd07ef4970452f958325b060304f41",
            "max": 1,
            "min": 0,
            "orientation": "horizontal",
            "style": "IPY_MODEL_9f68dbc1264b4bdcb2ff2a623ad4dc24",
            "value": 1
          }
        },
        "958db69f45a74b1fb399761cf012a183": {
          "model_module": "@jupyter-widgets/base",
          "model_name": "LayoutModel",
          "model_module_version": "1.2.0",
          "state": {
            "_model_module": "@jupyter-widgets/base",
            "_model_module_version": "1.2.0",
            "_model_name": "LayoutModel",
            "_view_count": null,
            "_view_module": "@jupyter-widgets/base",
            "_view_module_version": "1.2.0",
            "_view_name": "LayoutView",
            "align_content": null,
            "align_items": null,
            "align_self": null,
            "border": null,
            "bottom": null,
            "display": null,
            "flex": null,
            "flex_flow": null,
            "grid_area": null,
            "grid_auto_columns": null,
            "grid_auto_flow": null,
            "grid_auto_rows": null,
            "grid_column": null,
            "grid_gap": null,
            "grid_row": null,
            "grid_template_areas": null,
            "grid_template_columns": null,
            "grid_template_rows": null,
            "height": null,
            "justify_content": null,
            "justify_items": null,
            "left": null,
            "margin": null,
            "max_height": null,
            "max_width": null,
            "min_height": null,
            "min_width": null,
            "object_fit": null,
            "object_position": null,
            "order": null,
            "overflow": null,
            "overflow_x": null,
            "overflow_y": null,
            "padding": null,
            "right": null,
            "top": null,
            "visibility": null,
            "width": null
          }
        },
        "8198c30f4dca440fa3fa34ddf428ecbd": {
          "model_module": "@jupyter-widgets/base",
          "model_name": "LayoutModel",
          "model_module_version": "1.2.0",
          "state": {
            "_model_module": "@jupyter-widgets/base",
            "_model_module_version": "1.2.0",
            "_model_name": "LayoutModel",
            "_view_count": null,
            "_view_module": "@jupyter-widgets/base",
            "_view_module_version": "1.2.0",
            "_view_name": "LayoutView",
            "align_content": null,
            "align_items": null,
            "align_self": null,
            "border": null,
            "bottom": null,
            "display": null,
            "flex": null,
            "flex_flow": null,
            "grid_area": null,
            "grid_auto_columns": null,
            "grid_auto_flow": null,
            "grid_auto_rows": null,
            "grid_column": null,
            "grid_gap": null,
            "grid_row": null,
            "grid_template_areas": null,
            "grid_template_columns": null,
            "grid_template_rows": null,
            "height": null,
            "justify_content": null,
            "justify_items": null,
            "left": null,
            "margin": null,
            "max_height": null,
            "max_width": null,
            "min_height": null,
            "min_width": null,
            "object_fit": null,
            "object_position": null,
            "order": null,
            "overflow": null,
            "overflow_x": null,
            "overflow_y": null,
            "padding": null,
            "right": null,
            "top": null,
            "visibility": null,
            "width": null
          }
        },
        "5b5dd25568cf40a5b517b7661acd9ded": {
          "model_module": "@jupyter-widgets/controls",
          "model_name": "DescriptionStyleModel",
          "model_module_version": "1.5.0",
          "state": {
            "_model_module": "@jupyter-widgets/controls",
            "_model_module_version": "1.5.0",
            "_model_name": "DescriptionStyleModel",
            "_view_count": null,
            "_view_module": "@jupyter-widgets/base",
            "_view_module_version": "1.2.0",
            "_view_name": "StyleView",
            "description_width": ""
          }
        },
        "32dd07ef4970452f958325b060304f41": {
          "model_module": "@jupyter-widgets/base",
          "model_name": "LayoutModel",
          "model_module_version": "1.2.0",
          "state": {
            "_model_module": "@jupyter-widgets/base",
            "_model_module_version": "1.2.0",
            "_model_name": "LayoutModel",
            "_view_count": null,
            "_view_module": "@jupyter-widgets/base",
            "_view_module_version": "1.2.0",
            "_view_name": "LayoutView",
            "align_content": null,
            "align_items": null,
            "align_self": null,
            "border": null,
            "bottom": null,
            "display": null,
            "flex": null,
            "flex_flow": null,
            "grid_area": null,
            "grid_auto_columns": null,
            "grid_auto_flow": null,
            "grid_auto_rows": null,
            "grid_column": null,
            "grid_gap": null,
            "grid_row": null,
            "grid_template_areas": null,
            "grid_template_columns": null,
            "grid_template_rows": null,
            "height": null,
            "justify_content": null,
            "justify_items": null,
            "left": null,
            "margin": null,
            "max_height": null,
            "max_width": null,
            "min_height": null,
            "min_width": null,
            "object_fit": null,
            "object_position": null,
            "order": null,
            "overflow": null,
            "overflow_x": null,
            "overflow_y": null,
            "padding": null,
            "right": null,
            "top": null,
            "visibility": null,
            "width": null
          }
        },
        "9f68dbc1264b4bdcb2ff2a623ad4dc24": {
          "model_module": "@jupyter-widgets/controls",
          "model_name": "ProgressStyleModel",
          "model_module_version": "1.5.0",
          "state": {
            "_model_module": "@jupyter-widgets/controls",
            "_model_module_version": "1.5.0",
            "_model_name": "ProgressStyleModel",
            "_view_count": null,
            "_view_module": "@jupyter-widgets/base",
            "_view_module_version": "1.2.0",
            "_view_name": "StyleView",
            "bar_color": null,
            "description_width": ""
          }
        }
      }
    }
  },
  "cells": [
    {
      "cell_type": "markdown",
      "source": [
        "# Training\n",
        "\n",
        "This notebook consists on some code for training a neural network on the ECG dataset, to the aggregated superclass level (\"NORM\", \"MI\", \"STTC\", \"CD\", \"HYP\").\n",
        "\n",
        "This notebook uses the scripts \n",
        "- *train.py* to define the training function (quite simple; could be just defined in this notebook)\n",
        "- *trainutils.py* defining some utils related to the training \n",
        "- *models.py* defining the 1d-resnet model used"
      ],
      "metadata": {
        "id": "8kpXNjWNCpJM"
      }
    },
    {
      "cell_type": "markdown",
      "source": [
        "## Mount repository\n",
        "Doing this to make sure we have all the files of the repository.\n",
        "Needed to import the *train.py*, *trainutils.py* and *models.py* files."
      ],
      "metadata": {
        "id": "g7zA_RD3DbQs"
      }
    },
    {
      "cell_type": "code",
      "execution_count": null,
      "metadata": {
        "id": "gUUZ6tkBNrtY",
        "colab": {
          "base_uri": "https://localhost:8080/"
        },
        "outputId": "fd3a8155-30d1-409d-90bd-d8b299a26d1b"
      },
      "outputs": [
        {
          "output_type": "stream",
          "name": "stdout",
          "text": [
            "fatal: destination path 'idoven' already exists and is not an empty directory.\n"
          ]
        }
      ],
      "source": [
        "!git clone https://[PERSONAL ACCESS TOKEN REMOVED HERE!!!]@github.com/sergi-andreu/Idoven-challenge.git idoven"
      ]
    },
    {
      "cell_type": "markdown",
      "source": [
        "## Mount drive and import some required packages"
      ],
      "metadata": {
        "id": "g3sgk2rEDjx7"
      }
    },
    {
      "cell_type": "code",
      "source": [
        "from google.colab import drive\n",
        "drive.mount('/content/drive', force_remount=True)"
      ],
      "metadata": {
        "colab": {
          "base_uri": "https://localhost:8080/"
        },
        "id": "8Eyx2cs8QkSZ",
        "outputId": "e9351132-7499-4dbe-c3b7-c357717bc6a0"
      },
      "execution_count": null,
      "outputs": [
        {
          "output_type": "stream",
          "name": "stdout",
          "text": [
            "Mounted at /content/drive\n"
          ]
        }
      ]
    },
    {
      "cell_type": "code",
      "source": [
        "import numpy as np\n",
        "import matplotlib.pyplot as plt\n",
        "import os\n",
        "from scipy.fft import rfft, rfftfreq\n",
        "import scipy.signal as sp\n",
        "\n",
        "import seaborn as sb\n",
        "import pandas as pd\n",
        "\n",
        "import torch\n",
        "from torch.utils.data import TensorDataset\n",
        "\n",
        "import os\n",
        "\n",
        "from sklearn.preprocessing import StandardScaler"
      ],
      "metadata": {
        "id": "TUxVxhCTeeku"
      },
      "execution_count": null,
      "outputs": []
    },
    {
      "cell_type": "markdown",
      "source": [
        "### Set the seed for reproducibility"
      ],
      "metadata": {
        "id": "skIAHAQVDmnj"
      }
    },
    {
      "cell_type": "code",
      "source": [
        "def set_all_seeds(seed):\n",
        "  np.random.seed(seed)\n",
        "  torch.manual_seed(seed)\n",
        "  torch.cuda.manual_seed(seed)\n",
        "  torch.backends.cudnn.deterministic = True\n",
        "\n",
        "set_all_seeds(0)\n",
        "\n",
        "device = torch.device(\"cuda\" if torch.cuda.is_available() else \"cpu\")"
      ],
      "metadata": {
        "id": "o9vH6CyPrd9s"
      },
      "execution_count": null,
      "outputs": []
    },
    {
      "cell_type": "markdown",
      "source": [
        "### Import the training and test data\n",
        "\n",
        "Using folds 1-8 for training, 9 for testing. Fold 10 is left for evaluation"
      ],
      "metadata": {
        "id": "wNV33vhMD55s"
      }
    },
    {
      "cell_type": "code",
      "source": [
        "drivepath = \"drive/MyDrive/idoven\"\n",
        "fold_idx = 1\n",
        "X = np.load(f\"{drivepath}/nparrays/{str(fold_idx).zfill(2)}.npy\")\n",
        "Y = np.load(f\"{drivepath}/nparrays/labels/{str(fold_idx).zfill(2)}.npy\")\n",
        "\n",
        "for fold_idx in range(2, 9):\n",
        "  X = np.append(X, np.load(f\"{drivepath}/nparrays/{str(fold_idx).zfill(2)}.npy\"), axis=0)\n",
        "  Y = np.append(Y, np.load(f\"{drivepath}/nparrays/labels/{str(fold_idx).zfill(2)}.npy\"), axis=0)\n",
        "\n",
        "\n",
        "def apply_scaler(X, scaler):\n",
        "    X_tmp = []\n",
        "    for x in X:\n",
        "        x_shape = x.shape\n",
        "        X_tmp.append(scaler.transform(x.flatten()[:,np.newaxis]).reshape(x_shape))\n",
        "    X_tmp = np.array(X_tmp)\n",
        "    return X_tmp\n",
        "\n",
        "# Scale the data using a standard scaler\n",
        "scaler = StandardScaler()\n",
        "scaler.fit(np.vstack(X).flatten()[:,np.newaxis].astype(float))\n",
        "X = apply_scaler(X, scaler)\n",
        "\n",
        "X, Y = torch.from_numpy(X).float(), torch.from_numpy(Y).float()\n",
        "train_dataset = TensorDataset(X,Y)\n",
        "del X, Y\n",
        "\n",
        "X_test = np.load(f\"{drivepath}/nparrays/09.npy\")\n",
        "Y_test = np.load(f\"{drivepath}/nparrays/labels/09.npy\")\n",
        "\n",
        "X_test = apply_scaler(X_test, scaler)\n",
        "\n",
        "X_test, Y_test = torch.from_numpy(X_test).float(), torch.from_numpy(Y_test).float()\n",
        "test_dataset = TensorDataset(X_test, Y_test)\n",
        "del X_test, Y_test"
      ],
      "metadata": {
        "id": "nsWOLaCoeoqE"
      },
      "execution_count": null,
      "outputs": []
    },
    {
      "cell_type": "markdown",
      "source": [
        "Save the scaler (for later evaluation)"
      ],
      "metadata": {
        "id": "NY5kmvCYEGY7"
      }
    },
    {
      "cell_type": "code",
      "source": [
        "import pickle as pck\n",
        "dict_scaler = {\"scale_\" : scaler.scale_, \"mean_\" : scaler.mean_, \"var_\" : scaler.var_}\n",
        "\n",
        "with open(\"drive/MyDrive/idoven/scalers/standardscaler.txt\",\"wb\") as filehandler:\n",
        "  pck.dump(dict_scaler,filehandler)"
      ],
      "metadata": {
        "id": "LZg0avfP9PS1"
      },
      "execution_count": null,
      "outputs": []
    },
    {
      "cell_type": "markdown",
      "source": [
        "### Define the dataloaders"
      ],
      "metadata": {
        "id": "xpv9lO3QVXM6"
      }
    },
    {
      "cell_type": "code",
      "source": [
        "from torch.utils.data import DataLoader, BatchSampler\n",
        "\n",
        "train_dataloader = DataLoader(train_dataset, batch_size=64, shuffle=True)\n",
        "test_dataloader = DataLoader(test_dataset, batch_size=64, shuffle=True)"
      ],
      "metadata": {
        "id": "MzjPWbI1ZvJp"
      },
      "execution_count": null,
      "outputs": []
    },
    {
      "cell_type": "markdown",
      "source": [
        "### Import utils"
      ],
      "metadata": {
        "id": "mvbrjhiOET_M"
      }
    },
    {
      "cell_type": "code",
      "source": [
        "from idoven.models import *\n",
        "from idoven.trainutils import *\n",
        "from idoven.train import *"
      ],
      "metadata": {
        "id": "U_rmhcSdveqB"
      },
      "execution_count": null,
      "outputs": []
    },
    {
      "cell_type": "code",
      "source": [
        "from sklearn.metrics import roc_auc_score, average_precision_score\n",
        "\n",
        "loss_meter = AverageMeter()\n",
        "CEloss = torch.nn.CrossEntropyLoss()"
      ],
      "metadata": {
        "id": "j6ljTQqLuSJ0"
      },
      "execution_count": null,
      "outputs": []
    },
    {
      "cell_type": "markdown",
      "source": [
        "### Create model"
      ],
      "metadata": {
        "id": "GD4WNXYPEXG0"
      }
    },
    {
      "cell_type": "code",
      "source": [
        "num_outputs = 5\n",
        "model = resnet18(num_outputs = num_outputs).to(device)"
      ],
      "metadata": {
        "id": "nqjCs1jmvkYZ"
      },
      "execution_count": null,
      "outputs": []
    },
    {
      "cell_type": "markdown",
      "source": [
        "# Import Weights&Biases\n",
        "This is used for experiment tracking. Here, Weights&Biases is specially useful since the colab notebook sometimes break, and it is a way to log the data on the cloud, and access is later."
      ],
      "metadata": {
        "id": "aDPf-S4_EY_r"
      }
    },
    {
      "cell_type": "code",
      "source": [
        "!pip install wandb"
      ],
      "metadata": {
        "colab": {
          "base_uri": "https://localhost:8080/"
        },
        "id": "eSbCw64K9Xt_",
        "outputId": "09a89967-e500-47d5-abdd-816ee4566ed1"
      },
      "execution_count": null,
      "outputs": [
        {
          "output_type": "stream",
          "name": "stdout",
          "text": [
            "Looking in indexes: https://pypi.org/simple, https://us-python.pkg.dev/colab-wheels/public/simple/\n",
            "Collecting wandb\n",
            "  Downloading wandb-0.13.5-py2.py3-none-any.whl (1.9 MB)\n",
            "\u001b[K     |████████████████████████████████| 1.9 MB 13.6 MB/s \n",
            "\u001b[?25hRequirement already satisfied: PyYAML in /usr/local/lib/python3.7/dist-packages (from wandb) (6.0)\n",
            "Collecting pathtools\n",
            "  Downloading pathtools-0.1.2.tar.gz (11 kB)\n",
            "Requirement already satisfied: protobuf!=4.0.*,!=4.21.0,<5,>=3.12.0 in /usr/local/lib/python3.7/dist-packages (from wandb) (3.19.6)\n",
            "Collecting sentry-sdk>=1.0.0\n",
            "  Downloading sentry_sdk-1.10.1-py2.py3-none-any.whl (166 kB)\n",
            "\u001b[K     |████████████████████████████████| 166 kB 59.4 MB/s \n",
            "\u001b[?25hCollecting setproctitle\n",
            "  Downloading setproctitle-1.3.2-cp37-cp37m-manylinux_2_5_x86_64.manylinux1_x86_64.manylinux_2_17_x86_64.manylinux2014_x86_64.whl (30 kB)\n",
            "Requirement already satisfied: Click!=8.0.0,>=7.0 in /usr/local/lib/python3.7/dist-packages (from wandb) (7.1.2)\n",
            "Collecting docker-pycreds>=0.4.0\n",
            "  Downloading docker_pycreds-0.4.0-py2.py3-none-any.whl (9.0 kB)\n",
            "Requirement already satisfied: setuptools in /usr/local/lib/python3.7/dist-packages (from wandb) (57.4.0)\n",
            "Requirement already satisfied: psutil>=5.0.0 in /usr/local/lib/python3.7/dist-packages (from wandb) (5.4.8)\n",
            "Collecting GitPython>=1.0.0\n",
            "  Downloading GitPython-3.1.29-py3-none-any.whl (182 kB)\n",
            "\u001b[K     |████████████████████████████████| 182 kB 71.1 MB/s \n",
            "\u001b[?25hCollecting shortuuid>=0.5.0\n",
            "  Downloading shortuuid-1.0.10-py3-none-any.whl (10 kB)\n",
            "Requirement already satisfied: six>=1.13.0 in /usr/local/lib/python3.7/dist-packages (from wandb) (1.15.0)\n",
            "Requirement already satisfied: promise<3,>=2.0 in /usr/local/lib/python3.7/dist-packages (from wandb) (2.3)\n",
            "Requirement already satisfied: requests<3,>=2.0.0 in /usr/local/lib/python3.7/dist-packages (from wandb) (2.23.0)\n",
            "Collecting gitdb<5,>=4.0.1\n",
            "  Downloading gitdb-4.0.9-py3-none-any.whl (63 kB)\n",
            "\u001b[K     |████████████████████████████████| 63 kB 1.9 MB/s \n",
            "\u001b[?25hRequirement already satisfied: typing-extensions>=3.7.4.3 in /usr/local/lib/python3.7/dist-packages (from GitPython>=1.0.0->wandb) (4.1.1)\n",
            "Collecting smmap<6,>=3.0.1\n",
            "  Downloading smmap-5.0.0-py3-none-any.whl (24 kB)\n",
            "Requirement already satisfied: chardet<4,>=3.0.2 in /usr/local/lib/python3.7/dist-packages (from requests<3,>=2.0.0->wandb) (3.0.4)\n",
            "Requirement already satisfied: idna<3,>=2.5 in /usr/local/lib/python3.7/dist-packages (from requests<3,>=2.0.0->wandb) (2.10)\n",
            "Requirement already satisfied: urllib3!=1.25.0,!=1.25.1,<1.26,>=1.21.1 in /usr/local/lib/python3.7/dist-packages (from requests<3,>=2.0.0->wandb) (1.24.3)\n",
            "Requirement already satisfied: certifi>=2017.4.17 in /usr/local/lib/python3.7/dist-packages (from requests<3,>=2.0.0->wandb) (2022.9.24)\n",
            "Collecting sentry-sdk>=1.0.0\n",
            "  Downloading sentry_sdk-1.10.0-py2.py3-none-any.whl (166 kB)\n",
            "\u001b[K     |████████████████████████████████| 166 kB 68.3 MB/s \n",
            "\u001b[?25h  Downloading sentry_sdk-1.9.10-py2.py3-none-any.whl (162 kB)\n",
            "\u001b[K     |████████████████████████████████| 162 kB 76.2 MB/s \n",
            "\u001b[?25h  Downloading sentry_sdk-1.9.9-py2.py3-none-any.whl (162 kB)\n",
            "\u001b[K     |████████████████████████████████| 162 kB 72.0 MB/s \n",
            "\u001b[?25h  Downloading sentry_sdk-1.9.8-py2.py3-none-any.whl (158 kB)\n",
            "\u001b[K     |████████████████████████████████| 158 kB 76.1 MB/s \n",
            "\u001b[?25h  Downloading sentry_sdk-1.9.7-py2.py3-none-any.whl (157 kB)\n",
            "\u001b[K     |████████████████████████████████| 157 kB 75.2 MB/s \n",
            "\u001b[?25h  Downloading sentry_sdk-1.9.6-py2.py3-none-any.whl (157 kB)\n",
            "\u001b[K     |████████████████████████████████| 157 kB 74.5 MB/s \n",
            "\u001b[?25h  Downloading sentry_sdk-1.9.5-py2.py3-none-any.whl (157 kB)\n",
            "\u001b[K     |████████████████████████████████| 157 kB 74.2 MB/s \n",
            "\u001b[?25h  Downloading sentry_sdk-1.9.4-py2.py3-none-any.whl (157 kB)\n",
            "\u001b[K     |████████████████████████████████| 157 kB 66.2 MB/s \n",
            "\u001b[?25h  Downloading sentry_sdk-1.9.3-py2.py3-none-any.whl (157 kB)\n",
            "\u001b[K     |████████████████████████████████| 157 kB 78.5 MB/s \n",
            "\u001b[?25h  Downloading sentry_sdk-1.9.2-py2.py3-none-any.whl (157 kB)\n",
            "\u001b[K     |████████████████████████████████| 157 kB 62.6 MB/s \n",
            "\u001b[?25h  Downloading sentry_sdk-1.9.1-py2.py3-none-any.whl (157 kB)\n",
            "\u001b[K     |████████████████████████████████| 157 kB 67.4 MB/s \n",
            "\u001b[?25h  Downloading sentry_sdk-1.9.0-py2.py3-none-any.whl (156 kB)\n",
            "\u001b[K     |████████████████████████████████| 156 kB 77.0 MB/s \n",
            "\u001b[?25hBuilding wheels for collected packages: pathtools\n",
            "  Building wheel for pathtools (setup.py) ... \u001b[?25l\u001b[?25hdone\n",
            "  Created wheel for pathtools: filename=pathtools-0.1.2-py3-none-any.whl size=8806 sha256=f679a793af0597ac94fed77080b74be39f86ff1951fb5b4a5e9f3933994ecc66\n",
            "  Stored in directory: /root/.cache/pip/wheels/3e/31/09/fa59cef12cdcfecc627b3d24273699f390e71828921b2cbba2\n",
            "Successfully built pathtools\n",
            "Installing collected packages: smmap, gitdb, shortuuid, setproctitle, sentry-sdk, pathtools, GitPython, docker-pycreds, wandb\n",
            "Successfully installed GitPython-3.1.29 docker-pycreds-0.4.0 gitdb-4.0.9 pathtools-0.1.2 sentry-sdk-1.9.0 setproctitle-1.3.2 shortuuid-1.0.10 smmap-5.0.0 wandb-0.13.5\n"
          ]
        }
      ]
    },
    {
      "cell_type": "markdown",
      "source": [
        "### Create a wandb sweep for hyperparameter tuning\n",
        "I have tried also other parameters (not doing an exhaustive grid search). Only doing a grid search here on the learning rate values."
      ],
      "metadata": {
        "id": "l_iXVjdxEkjb"
      }
    },
    {
      "cell_type": "code",
      "source": [
        "import wandb\n",
        "\n",
        "sweep_config = {\n",
        "  \"name\": \"Learning rate sweep 2\",\n",
        "  \"method\": \"grid\",\n",
        "  \"parameters\": {\n",
        "        \"lr\": {\n",
        "            \"values\": [1e-5, 5e-5, 1e-4, 5e-4, 1e-3]\n",
        "        },\n",
        "        \"epochs\" : {\n",
        "            \"values\" : [5]\n",
        "        },\n",
        "        \"log_every\" : {\n",
        "            \"values\" : [10]\n",
        "        },\n",
        "        \"model_used\" : {\n",
        "            \"values\" : [\"ResNet18\"]\n",
        "        }\n",
        "    }\n",
        "}\n",
        "\n",
        "# Define the sweep ID\n",
        "sweep_id = wandb.sweep(sweep_config, entity=\"sergi-andreu\", project=\"idoven\")"
      ],
      "metadata": {
        "colab": {
          "base_uri": "https://localhost:8080/",
          "height": 104
        },
        "id": "gw9pCVhV96XJ",
        "outputId": "dc221343-baf2-4b1a-98f1-68702a9b3b38"
      },
      "execution_count": null,
      "outputs": [
        {
          "output_type": "stream",
          "name": "stderr",
          "text": [
            "ERROR:wandb.jupyter:Failed to detect the name of this notebook, you can set it manually with the WANDB_NOTEBOOK_NAME environment variable to enable code saving.\n"
          ]
        },
        {
          "output_type": "display_data",
          "data": {
            "text/plain": [
              "<IPython.core.display.Javascript object>"
            ],
            "application/javascript": [
              "\n",
              "        window._wandbApiKey = new Promise((resolve, reject) => {\n",
              "            function loadScript(url) {\n",
              "            return new Promise(function(resolve, reject) {\n",
              "                let newScript = document.createElement(\"script\");\n",
              "                newScript.onerror = reject;\n",
              "                newScript.onload = resolve;\n",
              "                document.body.appendChild(newScript);\n",
              "                newScript.src = url;\n",
              "            });\n",
              "            }\n",
              "            loadScript(\"https://cdn.jsdelivr.net/npm/postmate/build/postmate.min.js\").then(() => {\n",
              "            const iframe = document.createElement('iframe')\n",
              "            iframe.style.cssText = \"width:0;height:0;border:none\"\n",
              "            document.body.appendChild(iframe)\n",
              "            const handshake = new Postmate({\n",
              "                container: iframe,\n",
              "                url: 'https://wandb.ai/authorize'\n",
              "            });\n",
              "            const timeout = setTimeout(() => reject(\"Couldn't auto authenticate\"), 5000)\n",
              "            handshake.then(function(child) {\n",
              "                child.on('authorize', data => {\n",
              "                    clearTimeout(timeout)\n",
              "                    resolve(data)\n",
              "                });\n",
              "            });\n",
              "            })\n",
              "        });\n",
              "    "
            ]
          },
          "metadata": {}
        },
        {
          "output_type": "stream",
          "name": "stderr",
          "text": [
            "\u001b[34m\u001b[1mwandb\u001b[0m: Appending key for api.wandb.ai to your netrc file: /root/.netrc\n"
          ]
        },
        {
          "output_type": "stream",
          "name": "stdout",
          "text": [
            "Create sweep with ID: g0nr5xgv\n",
            "Sweep URL: https://wandb.ai/sergi-andreu/idoven/sweeps/g0nr5xgv\n"
          ]
        }
      ]
    },
    {
      "cell_type": "markdown",
      "source": [
        "### Train the model\n",
        "\n",
        "The model is trained by the sweep (different trains, with the different parameters of the sweep).\n",
        "\n",
        "For that matter, we define a TRAIN() function on the train() function, that mounts the model (the model is not defined on the train() function."
      ],
      "metadata": {
        "id": "KxcG6BiAEvKM"
      }
    },
    {
      "cell_type": "code",
      "source": [
        "save_loc = \"drive/MyDrive/idoven/models/\"\n",
        "\n",
        "def TRAIN():\n",
        "  model = resnet18(num_outputs = num_outputs).to(device)\n",
        "  #model = resnet34(num_outputs = num_outputs).to(device)\n",
        "  train(model, train_dataloader, test_dataloader, verbose=False, \n",
        "        save_model=True, save_loc=save_loc)\n",
        "\n"
      ],
      "metadata": {
        "id": "LfEEwgERAbHo"
      },
      "execution_count": null,
      "outputs": []
    },
    {
      "cell_type": "markdown",
      "source": [
        "Run the sweep"
      ],
      "metadata": {
        "id": "cQxuznpEE-Sk"
      }
    },
    {
      "cell_type": "code",
      "source": [
        "wandb.agent(sweep_id, function=TRAIN)"
      ],
      "metadata": {
        "colab": {
          "base_uri": "https://localhost:8080/",
          "height": 1000,
          "referenced_widgets": [
            "eeda873bcf884386851be9ec5b9c1561",
            "0aec407bc5224649aef013436b08ed82",
            "b16ada91c24a47428a26ff1ba451639b",
            "9d28f18124c1445f8bd186fd51aa4a47",
            "944c78f1a7974c88a96e310a835fc402",
            "39fea1e50fcc45549a7020cc7d8fbecf",
            "a85372cca57744bba444aea944c86fe7",
            "dc2cff2aa35b4c159b16dca4dcd6b176",
            "c2b1999cf3d3435a976a63d59d1f410e",
            "c3181935b51342328afd115003b39166",
            "12d4cef2bad04211be4954b0fc5d252d",
            "6dcce3003e0e458ba372069429f4f00e",
            "871c63b6cabe46748d08ca4046d2e0c7",
            "dc4ebaf777c040b0a352de024f307e41",
            "7064cb14b4784acc8d2076739738a278",
            "2e5e8c4368134d2f81b0c3b18add2e0b",
            "48c8169168164396a32f5fbb53bff2dc",
            "587b2d0d87e94b739def3035538291ee",
            "dddd0506a8174dff9f24190d0dfd5ee2",
            "650e73ea9314470bb980eef559ac75bf",
            "8c67d97362094d8e94540a325ccc00ac",
            "c95a78b8e16940188fc41cebae842341",
            "c51057883de440a58d47e63e4d7b0561",
            "f20acdce04144cb289150b85c9b86c73",
            "a37181221907452eb2ad7d6eb4ec78fe",
            "6c9eda83120c4f53b2368ab659497a87",
            "22c20bfe46da456caee6d89445a1603a",
            "7e10d5d573e84ab6ab9ad7fa044d9a28",
            "1524d287e2a94f7482dc429baad0705b",
            "7d23b613f43240c79b3666e353bc9083",
            "eed7395a262b44b0be7bc10e59846019",
            "eae7c042bdb7485b87698f3095f8398b",
            "a0f44c74b8854a889912904bf9f726b8",
            "85d7afe8a0c34fb88fc6ec62a8fac4c1",
            "a913d22c3af44f9caf9107bcdc1dff17",
            "958db69f45a74b1fb399761cf012a183",
            "8198c30f4dca440fa3fa34ddf428ecbd",
            "5b5dd25568cf40a5b517b7661acd9ded",
            "32dd07ef4970452f958325b060304f41",
            "9f68dbc1264b4bdcb2ff2a623ad4dc24"
          ]
        },
        "id": "2Ysy1LYu-hM_",
        "outputId": "baaff318-a2f2-4c56-f2da-4b5a8efe1ef2"
      },
      "execution_count": null,
      "outputs": [
        {
          "output_type": "stream",
          "name": "stderr",
          "text": [
            "\u001b[34m\u001b[1mwandb\u001b[0m: Agent Starting Run: hzcofnd0 with config:\n",
            "\u001b[34m\u001b[1mwandb\u001b[0m: \tepochs: 5\n",
            "\u001b[34m\u001b[1mwandb\u001b[0m: \tlog_every: 10\n",
            "\u001b[34m\u001b[1mwandb\u001b[0m: \tlr: 1e-05\n",
            "\u001b[34m\u001b[1mwandb\u001b[0m: \tmodel_used: ResNet18\n",
            "ERROR:wandb.jupyter:Failed to detect the name of this notebook, you can set it manually with the WANDB_NOTEBOOK_NAME environment variable to enable code saving.\n",
            "\u001b[34m\u001b[1mwandb\u001b[0m: Currently logged in as: \u001b[33msergi-andreu\u001b[0m. Use \u001b[1m`wandb login --relogin`\u001b[0m to force relogin\n"
          ]
        },
        {
          "output_type": "display_data",
          "data": {
            "text/plain": [
              "<IPython.core.display.HTML object>"
            ],
            "text/html": [
              "Tracking run with wandb version 0.13.5"
            ]
          },
          "metadata": {}
        },
        {
          "output_type": "display_data",
          "data": {
            "text/plain": [
              "<IPython.core.display.HTML object>"
            ],
            "text/html": [
              "Run data is saved locally in <code>/content/wandb/run-20221112_112617-hzcofnd0</code>"
            ]
          },
          "metadata": {}
        },
        {
          "output_type": "display_data",
          "data": {
            "text/plain": [
              "<IPython.core.display.HTML object>"
            ],
            "text/html": [
              "Syncing run <strong><a href=\"https://wandb.ai/sergi-andreu/idoven/runs/hzcofnd0\" target=\"_blank\">avid-sweep-1</a></strong> to <a href=\"https://wandb.ai/sergi-andreu/idoven\" target=\"_blank\">Weights & Biases</a> (<a href=\"https://wandb.me/run\" target=\"_blank\">docs</a>)<br/>Sweep page:  <a href=\"https://wandb.ai/sergi-andreu/idoven/sweeps/g0nr5xgv\" target=\"_blank\">https://wandb.ai/sergi-andreu/idoven/sweeps/g0nr5xgv</a>"
            ]
          },
          "metadata": {}
        },
        {
          "output_type": "display_data",
          "data": {
            "text/plain": [
              "<IPython.core.display.HTML object>"
            ],
            "text/html": [
              "Waiting for W&B process to finish... <strong style=\"color:green\">(success).</strong>"
            ]
          },
          "metadata": {}
        },
        {
          "output_type": "display_data",
          "data": {
            "text/plain": [
              "VBox(children=(Label(value='0.151 MB of 0.151 MB uploaded (0.000 MB deduped)\\r'), FloatProgress(value=1.0, max…"
            ],
            "application/vnd.jupyter.widget-view+json": {
              "version_major": 2,
              "version_minor": 0,
              "model_id": "eeda873bcf884386851be9ec5b9c1561"
            }
          },
          "metadata": {}
        },
        {
          "output_type": "display_data",
          "data": {
            "text/plain": [
              "<IPython.core.display.HTML object>"
            ],
            "text/html": [
              "<style>\n",
              "    table.wandb td:nth-child(1) { padding: 0 10px; text-align: left ; width: auto;} td:nth-child(2) {text-align: left ; width: 100%}\n",
              "    .wandb-row { display: flex; flex-direction: row; flex-wrap: wrap; justify-content: flex-start; width: 100% }\n",
              "    .wandb-col { display: flex; flex-direction: column; flex-basis: 100%; flex: 1; padding: 10px; }\n",
              "    </style>\n",
              "<div class=\"wandb-row\"><div class=\"wandb-col\"><h3>Run history:</h3><br/><table class=\"wandb\"><tr><td>CD auc</td><td>▂▂▁▃▄▅▆▆▇▆▇▇▇▇▇▇▇▇█▇▇▇▇▇▇▇▇▇▇▇▇█▇▇█▇▇██▇</td></tr><tr><td>CD auprc</td><td>▂▂▁▂▃▄▅▆▇▆▇▇▇▇███▇█▇▇▇█▇▇████▇▇████▇▇███</td></tr><tr><td>HYP auc</td><td>▁▁▃▄▅▅▅▅▅▆▆▆▆▆▇▇▆▇▇▇▇▇▇▇▇▇▇██▇▇▇█████▇██</td></tr><tr><td>HYP auprc</td><td>▁▁▂▃▄▃▄▅▅▅▆▇▇▇▇▇▆▇▇▇▇▇▇▇▇▇███▆▇▇█████▆██</td></tr><tr><td>MI auc</td><td>▁▁▁▃▄▅▆▇▆▇▇▇▇▇▇▇▇▇▇▇▇▇▇▇▇█▇▇█▇▇█▇▇██▇██▇</td></tr><tr><td>MI auprc</td><td>▁▁▁▂▃▄▅▆▆▆▆▆▆▇▆▇▇▇▇▇▇▇▇▇▇█▇▇█▇▇████████▇</td></tr><tr><td>NORM auc</td><td>▁▁▃▅▇▇▇▇▇███████████████████████████████</td></tr><tr><td>NORM auprc</td><td>▁▁▃▅▇▇▇▇████████████████████████████████</td></tr><tr><td>STTC auc</td><td>▁▂▃▂▅▅▆▆▆▇▇▇▇█▇▇██▇▇████████████████████</td></tr><tr><td>STTC auprc</td><td>▁▁▂▂▄▄▄▅▅▅▆▆▇▇▇▇▇▇▇▇▇▇▇▇█████▇██████████</td></tr><tr><td>epoch</td><td>▁▁▁▁▁▁▁▁▃▃▃▃▃▃▃▃▅▅▅▅▅▅▅▅▆▆▆▆▆▆▆▆████████</td></tr><tr><td>train_loss</td><td>▆█▅▆▄▄▅▄▄▃▄▃▃▅▆▂▄▄▁▂▂▂▃▄▄▂▁▆▄▂▂▂▃▂▄▂▂▂▂▂</td></tr><tr><td>val loss</td><td>█▇▆▆▅▄▄▃▃▃▃▂▂▂▂▂▂▂▂▂▂▂▁▂▁▂▁▁▁▂▁▂▁▁▁▁▁▁▁▁</td></tr></table><br/></div><div class=\"wandb-col\"><h3>Run summary:</h3><br/><table class=\"wandb\"><tr><td>CD auc</td><td>0.79827</td></tr><tr><td>CD auprc</td><td>0.61988</td></tr><tr><td>HYP auc</td><td>0.87087</td></tr><tr><td>HYP auprc</td><td>0.56876</td></tr><tr><td>MI auc</td><td>0.80671</td></tr><tr><td>MI auprc</td><td>0.59702</td></tr><tr><td>NORM auc</td><td>0.91807</td></tr><tr><td>NORM auprc</td><td>0.88408</td></tr><tr><td>STTC auc</td><td>0.88822</td></tr><tr><td>STTC auprc</td><td>0.70352</td></tr><tr><td>epoch</td><td>4</td></tr><tr><td>train_loss</td><td>1.17227</td></tr><tr><td>val loss</td><td>1.33027</td></tr></table><br/></div></div>"
            ]
          },
          "metadata": {}
        },
        {
          "output_type": "display_data",
          "data": {
            "text/plain": [
              "<IPython.core.display.HTML object>"
            ],
            "text/html": [
              "Synced <strong style=\"color:#cdcd00\">avid-sweep-1</strong>: <a href=\"https://wandb.ai/sergi-andreu/idoven/runs/hzcofnd0\" target=\"_blank\">https://wandb.ai/sergi-andreu/idoven/runs/hzcofnd0</a><br/>Synced 4 W&B file(s), 0 media file(s), 0 artifact file(s) and 0 other file(s)"
            ]
          },
          "metadata": {}
        },
        {
          "output_type": "display_data",
          "data": {
            "text/plain": [
              "<IPython.core.display.HTML object>"
            ],
            "text/html": [
              "Find logs at: <code>./wandb/run-20221112_112617-hzcofnd0/logs</code>"
            ]
          },
          "metadata": {}
        },
        {
          "output_type": "stream",
          "name": "stderr",
          "text": [
            "\u001b[34m\u001b[1mwandb\u001b[0m: Agent Starting Run: xhnl3t0t with config:\n",
            "\u001b[34m\u001b[1mwandb\u001b[0m: \tepochs: 5\n",
            "\u001b[34m\u001b[1mwandb\u001b[0m: \tlog_every: 10\n",
            "\u001b[34m\u001b[1mwandb\u001b[0m: \tlr: 5e-05\n",
            "\u001b[34m\u001b[1mwandb\u001b[0m: \tmodel_used: ResNet18\n",
            "Failed to detect the name of this notebook, you can set it manually with the WANDB_NOTEBOOK_NAME environment variable to enable code saving.\n"
          ]
        },
        {
          "output_type": "display_data",
          "data": {
            "text/plain": [
              "<IPython.core.display.HTML object>"
            ],
            "text/html": [
              "Tracking run with wandb version 0.13.5"
            ]
          },
          "metadata": {}
        },
        {
          "output_type": "display_data",
          "data": {
            "text/plain": [
              "<IPython.core.display.HTML object>"
            ],
            "text/html": [
              "Run data is saved locally in <code>/content/wandb/run-20221112_113039-xhnl3t0t</code>"
            ]
          },
          "metadata": {}
        },
        {
          "output_type": "display_data",
          "data": {
            "text/plain": [
              "<IPython.core.display.HTML object>"
            ],
            "text/html": [
              "Syncing run <strong><a href=\"https://wandb.ai/sergi-andreu/idoven/runs/xhnl3t0t\" target=\"_blank\">comfy-sweep-2</a></strong> to <a href=\"https://wandb.ai/sergi-andreu/idoven\" target=\"_blank\">Weights & Biases</a> (<a href=\"https://wandb.me/run\" target=\"_blank\">docs</a>)<br/>Sweep page:  <a href=\"https://wandb.ai/sergi-andreu/idoven/sweeps/g0nr5xgv\" target=\"_blank\">https://wandb.ai/sergi-andreu/idoven/sweeps/g0nr5xgv</a>"
            ]
          },
          "metadata": {}
        },
        {
          "output_type": "display_data",
          "data": {
            "text/plain": [
              "<IPython.core.display.HTML object>"
            ],
            "text/html": [
              "Waiting for W&B process to finish... <strong style=\"color:green\">(success).</strong>"
            ]
          },
          "metadata": {}
        },
        {
          "output_type": "display_data",
          "data": {
            "text/plain": [
              "VBox(children=(Label(value='0.001 MB of 0.151 MB uploaded (0.000 MB deduped)\\r'), FloatProgress(value=0.004765…"
            ],
            "application/vnd.jupyter.widget-view+json": {
              "version_major": 2,
              "version_minor": 0,
              "model_id": "c2b1999cf3d3435a976a63d59d1f410e"
            }
          },
          "metadata": {}
        },
        {
          "output_type": "display_data",
          "data": {
            "text/plain": [
              "<IPython.core.display.HTML object>"
            ],
            "text/html": [
              "<style>\n",
              "    table.wandb td:nth-child(1) { padding: 0 10px; text-align: left ; width: auto;} td:nth-child(2) {text-align: left ; width: 100%}\n",
              "    .wandb-row { display: flex; flex-direction: row; flex-wrap: wrap; justify-content: flex-start; width: 100% }\n",
              "    .wandb-col { display: flex; flex-direction: column; flex-basis: 100%; flex: 1; padding: 10px; }\n",
              "    </style>\n",
              "<div class=\"wandb-row\"><div class=\"wandb-col\"><h3>Run history:</h3><br/><table class=\"wandb\"><tr><td>CD auc</td><td>▂▄▄▅▄▃▅▆▅▆▆▇▅▃▆▆▇▇▅▄▅▆▄▇█▇▇▆▇▅▄▄▁▇▅▅█▇▆▆</td></tr><tr><td>CD auprc</td><td>▂▃▄▅▄▂▅▆▅▆▇▇▅▃▆▆▇▇▆▄▅▇▄▇█▇▇▆▇▄▄▂▁▆▄▅█▆▅▅</td></tr><tr><td>HYP auc</td><td>▁▃▅▅▆▆▇▆▆▇▇▆▆▇▇█▇▆▇▅▆█▇▇▇▇▆▇▇▇▆▇▅▆▆▆▇▇▆▇</td></tr><tr><td>HYP auprc</td><td>▁▃▃▄▄▅▅▆▅▆▆▆▄▇▇▇▇▅▇▄▆█▆▆▇▇▆▆▇▇▆▆▅▇▇▇▇▇▆▇</td></tr><tr><td>MI auc</td><td>▁▅▅▇▆█▇▇▆▇▆▆▃▇▇▆████▄▆▆▇▇█▇▇▆▆▇█▇▇▆▇▆▇█▇</td></tr><tr><td>MI auprc</td><td>▁▄▄▆▇▇▆▆▆▆▅▆▂▆▆▅█▇▇█▃▅▅▆▇▇▇▇▅▅▇▇▇▆▆▆▅▇█▇</td></tr><tr><td>NORM auc</td><td>▁▆▇▇▇█▇█████████████████████████████████</td></tr><tr><td>NORM auprc</td><td>▁▆▇█▇███████████████▇███████▇██████▇████</td></tr><tr><td>STTC auc</td><td>▁▄▆▆██▇████████▇▇███████▇███████▇███▇▇▇█</td></tr><tr><td>STTC auprc</td><td>▁▃▅▅▇▆▇█▇▇▇▇▇█▇▇▇█▇█▇███▆▇█▇▇█▇▇▇▇▇▇▇▆▇▇</td></tr><tr><td>epoch</td><td>▁▁▁▁▁▁▁▁▃▃▃▃▃▃▃▃▅▅▅▅▅▅▅▅▆▆▆▆▆▆▆▆████████</td></tr><tr><td>train_loss</td><td>██▇▅▅▅▅▅▆▄▆▅▆▄▄▅▄▅▄▅▅▅▅▄▄▂▅▄▂▅▄▅▂▃▂▄▂▃▁▄</td></tr><tr><td>val loss</td><td>▇▅▃▃▂▂▁▂▂▁▁▁▂▁▁▁▁▁▁▃▂▂▂▁▃▂▂▂▂▄▂▂█▁▃▂▂▃▄▂</td></tr></table><br/></div><div class=\"wandb-col\"><h3>Run summary:</h3><br/><table class=\"wandb\"><tr><td>CD auc</td><td>0.7822</td></tr><tr><td>CD auprc</td><td>0.51158</td></tr><tr><td>HYP auc</td><td>0.85608</td></tr><tr><td>HYP auprc</td><td>0.53442</td></tr><tr><td>MI auc</td><td>0.80497</td></tr><tr><td>MI auprc</td><td>0.57707</td></tr><tr><td>NORM auc</td><td>0.9109</td></tr><tr><td>NORM auprc</td><td>0.87002</td></tr><tr><td>STTC auc</td><td>0.88321</td></tr><tr><td>STTC auprc</td><td>0.66022</td></tr><tr><td>epoch</td><td>4</td></tr><tr><td>train_loss</td><td>1.14888</td></tr><tr><td>val loss</td><td>1.41333</td></tr></table><br/></div></div>"
            ]
          },
          "metadata": {}
        },
        {
          "output_type": "display_data",
          "data": {
            "text/plain": [
              "<IPython.core.display.HTML object>"
            ],
            "text/html": [
              "Synced <strong style=\"color:#cdcd00\">comfy-sweep-2</strong>: <a href=\"https://wandb.ai/sergi-andreu/idoven/runs/xhnl3t0t\" target=\"_blank\">https://wandb.ai/sergi-andreu/idoven/runs/xhnl3t0t</a><br/>Synced 4 W&B file(s), 0 media file(s), 0 artifact file(s) and 0 other file(s)"
            ]
          },
          "metadata": {}
        },
        {
          "output_type": "display_data",
          "data": {
            "text/plain": [
              "<IPython.core.display.HTML object>"
            ],
            "text/html": [
              "Find logs at: <code>./wandb/run-20221112_113039-xhnl3t0t/logs</code>"
            ]
          },
          "metadata": {}
        },
        {
          "output_type": "stream",
          "name": "stderr",
          "text": [
            "\u001b[34m\u001b[1mwandb\u001b[0m: Agent Starting Run: aj6halk1 with config:\n",
            "\u001b[34m\u001b[1mwandb\u001b[0m: \tepochs: 5\n",
            "\u001b[34m\u001b[1mwandb\u001b[0m: \tlog_every: 10\n",
            "\u001b[34m\u001b[1mwandb\u001b[0m: \tlr: 0.0001\n",
            "\u001b[34m\u001b[1mwandb\u001b[0m: \tmodel_used: ResNet18\n",
            "Failed to detect the name of this notebook, you can set it manually with the WANDB_NOTEBOOK_NAME environment variable to enable code saving.\n"
          ]
        },
        {
          "output_type": "display_data",
          "data": {
            "text/plain": [
              "<IPython.core.display.HTML object>"
            ],
            "text/html": [
              "Tracking run with wandb version 0.13.5"
            ]
          },
          "metadata": {}
        },
        {
          "output_type": "display_data",
          "data": {
            "text/plain": [
              "<IPython.core.display.HTML object>"
            ],
            "text/html": [
              "Run data is saved locally in <code>/content/wandb/run-20221112_113452-aj6halk1</code>"
            ]
          },
          "metadata": {}
        },
        {
          "output_type": "display_data",
          "data": {
            "text/plain": [
              "<IPython.core.display.HTML object>"
            ],
            "text/html": [
              "Syncing run <strong><a href=\"https://wandb.ai/sergi-andreu/idoven/runs/aj6halk1\" target=\"_blank\">solar-sweep-3</a></strong> to <a href=\"https://wandb.ai/sergi-andreu/idoven\" target=\"_blank\">Weights & Biases</a> (<a href=\"https://wandb.me/run\" target=\"_blank\">docs</a>)<br/>Sweep page:  <a href=\"https://wandb.ai/sergi-andreu/idoven/sweeps/g0nr5xgv\" target=\"_blank\">https://wandb.ai/sergi-andreu/idoven/sweeps/g0nr5xgv</a>"
            ]
          },
          "metadata": {}
        },
        {
          "output_type": "display_data",
          "data": {
            "text/plain": [
              "<IPython.core.display.HTML object>"
            ],
            "text/html": [
              "Waiting for W&B process to finish... <strong style=\"color:green\">(success).</strong>"
            ]
          },
          "metadata": {}
        },
        {
          "output_type": "display_data",
          "data": {
            "text/plain": [
              "VBox(children=(Label(value='0.151 MB of 0.151 MB uploaded (0.000 MB deduped)\\r'), FloatProgress(value=1.0, max…"
            ],
            "application/vnd.jupyter.widget-view+json": {
              "version_major": 2,
              "version_minor": 0,
              "model_id": "48c8169168164396a32f5fbb53bff2dc"
            }
          },
          "metadata": {}
        },
        {
          "output_type": "display_data",
          "data": {
            "text/plain": [
              "<IPython.core.display.HTML object>"
            ],
            "text/html": [
              "<style>\n",
              "    table.wandb td:nth-child(1) { padding: 0 10px; text-align: left ; width: auto;} td:nth-child(2) {text-align: left ; width: 100%}\n",
              "    .wandb-row { display: flex; flex-direction: row; flex-wrap: wrap; justify-content: flex-start; width: 100% }\n",
              "    .wandb-col { display: flex; flex-direction: column; flex-basis: 100%; flex: 1; padding: 10px; }\n",
              "    </style>\n",
              "<div class=\"wandb-row\"><div class=\"wandb-col\"><h3>Run history:</h3><br/><table class=\"wandb\"><tr><td>CD auc</td><td>▁▄▅▅▇▄▆▆█▆▇▅▇▅▃▄▅▇█▇▆▆█▃▆▆█▇▇▆▆▄█▆▇▇▆▆▇█</td></tr><tr><td>CD auprc</td><td>▁▃▄▅▇▃▇▇█▅█▅▇▆▃▂▆██▇▇▅█▂▅▆▇▇▇▅▄▃█▅▇▇▅▅▆█</td></tr><tr><td>HYP auc</td><td>▁▃▅▆▆▇▆▇▇▇▇▇▇▇▆▆█▆▇██▇▇▆▇▅▆▆▆▆▇▄▆▆▄▆▅▆▅▆</td></tr><tr><td>HYP auprc</td><td>▁▂▅▇▆▇▆▇██▇▇▇█▆▆█▆██▇▇█▆▇▆▇▅▇██▇▇█▆▇▆▇▇▆</td></tr><tr><td>MI auc</td><td>▁▅▆▆▇▇▇▇▇█▅▇▇▆▇█▇███▇▅█▇▇▆▇▇█▇▇▇▆▇▇▇▇▇▇▇</td></tr><tr><td>MI auprc</td><td>▁▅▆▆▇▇▇▇▆▇▃▆▇▅▆█▇█▇▇▆▃▇▆▆▆▆▆▇▇▆▇▅▆▆▇▇▆▆▅</td></tr><tr><td>NORM auc</td><td>▁▆▇▇▇▇▇██▇███████▇▇██████▇▇▇█▇█▇█▇▇▇▇▇▇█</td></tr><tr><td>NORM auprc</td><td>▁▆▇▇▇▇▇██▇▇██████▇▇▇██▇█▇▇▇▇▇▇█▇▇▇▇▇▇▇▇█</td></tr><tr><td>STTC auc</td><td>▁▅▆█▇▇▇████▇███████▇██▇█▇█▇▇▇▇▇█▆▇▇▇▇▇▇▇</td></tr><tr><td>STTC auprc</td><td>▁▄▆▇▇▇▆▇███▇█████▇█▇▇▇▇███▇▇▇▇▇█▅▇▇▆▆▇▆▆</td></tr><tr><td>epoch</td><td>▁▁▁▁▁▁▁▁▃▃▃▃▃▃▃▃▅▅▅▅▅▅▅▅▆▆▆▆▆▆▆▆████████</td></tr><tr><td>train_loss</td><td>█▇▆▄▅▄▄▅▄▆▃▆▃▄▄▅▃▄▃▄▂▅▅▂▃▃▃▄▃▄▅▄▂▁▃▃▂▁▂▂</td></tr><tr><td>val loss</td><td>▆▃▃▂▄▂▁▂▂▂▂▁▁▂▃▂▂▂▂▁▂▂▃▂▂▃▂▃▇▄▂▅▄▃▃▄▄█▃▄</td></tr></table><br/></div><div class=\"wandb-col\"><h3>Run summary:</h3><br/><table class=\"wandb\"><tr><td>CD auc</td><td>0.84543</td></tr><tr><td>CD auprc</td><td>0.64712</td></tr><tr><td>HYP auc</td><td>0.85769</td></tr><tr><td>HYP auprc</td><td>0.54309</td></tr><tr><td>MI auc</td><td>0.81896</td></tr><tr><td>MI auprc</td><td>0.56232</td></tr><tr><td>NORM auc</td><td>0.92376</td></tr><tr><td>NORM auprc</td><td>0.89602</td></tr><tr><td>STTC auc</td><td>0.87255</td></tr><tr><td>STTC auprc</td><td>0.61926</td></tr><tr><td>epoch</td><td>4</td></tr><tr><td>train_loss</td><td>0.83186</td></tr><tr><td>val loss</td><td>1.59738</td></tr></table><br/></div></div>"
            ]
          },
          "metadata": {}
        },
        {
          "output_type": "display_data",
          "data": {
            "text/plain": [
              "<IPython.core.display.HTML object>"
            ],
            "text/html": [
              "Synced <strong style=\"color:#cdcd00\">solar-sweep-3</strong>: <a href=\"https://wandb.ai/sergi-andreu/idoven/runs/aj6halk1\" target=\"_blank\">https://wandb.ai/sergi-andreu/idoven/runs/aj6halk1</a><br/>Synced 4 W&B file(s), 0 media file(s), 0 artifact file(s) and 0 other file(s)"
            ]
          },
          "metadata": {}
        },
        {
          "output_type": "display_data",
          "data": {
            "text/plain": [
              "<IPython.core.display.HTML object>"
            ],
            "text/html": [
              "Find logs at: <code>./wandb/run-20221112_113452-aj6halk1/logs</code>"
            ]
          },
          "metadata": {}
        },
        {
          "output_type": "stream",
          "name": "stderr",
          "text": [
            "\u001b[34m\u001b[1mwandb\u001b[0m: Agent Starting Run: e2uu0vhg with config:\n",
            "\u001b[34m\u001b[1mwandb\u001b[0m: \tepochs: 5\n",
            "\u001b[34m\u001b[1mwandb\u001b[0m: \tlog_every: 10\n",
            "\u001b[34m\u001b[1mwandb\u001b[0m: \tlr: 0.0005\n",
            "\u001b[34m\u001b[1mwandb\u001b[0m: \tmodel_used: ResNet18\n",
            "Failed to detect the name of this notebook, you can set it manually with the WANDB_NOTEBOOK_NAME environment variable to enable code saving.\n"
          ]
        },
        {
          "output_type": "display_data",
          "data": {
            "text/plain": [
              "<IPython.core.display.HTML object>"
            ],
            "text/html": [
              "Tracking run with wandb version 0.13.5"
            ]
          },
          "metadata": {}
        },
        {
          "output_type": "display_data",
          "data": {
            "text/plain": [
              "<IPython.core.display.HTML object>"
            ],
            "text/html": [
              "Run data is saved locally in <code>/content/wandb/run-20221112_113909-e2uu0vhg</code>"
            ]
          },
          "metadata": {}
        },
        {
          "output_type": "display_data",
          "data": {
            "text/plain": [
              "<IPython.core.display.HTML object>"
            ],
            "text/html": [
              "Syncing run <strong><a href=\"https://wandb.ai/sergi-andreu/idoven/runs/e2uu0vhg\" target=\"_blank\">glowing-sweep-4</a></strong> to <a href=\"https://wandb.ai/sergi-andreu/idoven\" target=\"_blank\">Weights & Biases</a> (<a href=\"https://wandb.me/run\" target=\"_blank\">docs</a>)<br/>Sweep page:  <a href=\"https://wandb.ai/sergi-andreu/idoven/sweeps/g0nr5xgv\" target=\"_blank\">https://wandb.ai/sergi-andreu/idoven/sweeps/g0nr5xgv</a>"
            ]
          },
          "metadata": {}
        },
        {
          "output_type": "display_data",
          "data": {
            "text/plain": [
              "<IPython.core.display.HTML object>"
            ],
            "text/html": [
              "Waiting for W&B process to finish... <strong style=\"color:green\">(success).</strong>"
            ]
          },
          "metadata": {}
        },
        {
          "output_type": "display_data",
          "data": {
            "text/plain": [
              "VBox(children=(Label(value='0.001 MB of 0.153 MB uploaded (0.000 MB deduped)\\r'), FloatProgress(value=0.004752…"
            ],
            "application/vnd.jupyter.widget-view+json": {
              "version_major": 2,
              "version_minor": 0,
              "model_id": "a37181221907452eb2ad7d6eb4ec78fe"
            }
          },
          "metadata": {}
        },
        {
          "output_type": "display_data",
          "data": {
            "text/plain": [
              "<IPython.core.display.HTML object>"
            ],
            "text/html": [
              "<style>\n",
              "    table.wandb td:nth-child(1) { padding: 0 10px; text-align: left ; width: auto;} td:nth-child(2) {text-align: left ; width: 100%}\n",
              "    .wandb-row { display: flex; flex-direction: row; flex-wrap: wrap; justify-content: flex-start; width: 100% }\n",
              "    .wandb-col { display: flex; flex-direction: column; flex-basis: 100%; flex: 1; padding: 10px; }\n",
              "    </style>\n",
              "<div class=\"wandb-row\"><div class=\"wandb-col\"><h3>Run history:</h3><br/><table class=\"wandb\"><tr><td>CD auc</td><td>▁▄▅▅▅▅▆▄▆▆▅▇▆▇▆▇▄▇▃▆▇▆▅█▇███▇█▇█▇███▇▇█▇</td></tr><tr><td>CD auprc</td><td>▁▄▄▅▆▆▅▅▆▆▆▆▆█▆▇▆▇▃▆█▅▅█▇▇▇█▇█▇█▆▇█▇▇▇▇▇</td></tr><tr><td>HYP auc</td><td>▁▁▃▄▅▆▃▅▅▅▅▆▅▅▅▄▆▆▇▆▆▆▅▆▇▇▇▇▅▄▆▇▇▆▆█▇▇▇▇</td></tr><tr><td>HYP auprc</td><td>▁▁▂▄▅▄▂▃▅▆▄▄▃▃▄▂▅▅▇▅▆▄▄▅▇▆▆▅▂▃▅█▅▃▃▇▆▄▄▅</td></tr><tr><td>MI auc</td><td>▁▃▃▃▅▄▅▅▄▄▇▆▃▅▄▆▆▆▇▆▅▇▇▅▆▇▆▇█▇▆▇▆▆▇▅██▇▅</td></tr><tr><td>MI auprc</td><td>▁▂▃▃▄▄▃▃▃▅▇▄▂▅▄▄▆▅▅▅▅▇▅▅▅▆▆██▅▅▇▄▅▆▄█▇▆▄</td></tr><tr><td>NORM auc</td><td>▁▅▆▆▇▆▇▇▆█▇▇▇██▇███▇██▇▇████▇██▇████████</td></tr><tr><td>NORM auprc</td><td>▁▄▆▆▇▆▇▇▆█▇▇▇▇█▇▇▇▇▇▇█▇▇██▇▇▇▇█▇▇███▇▇██</td></tr><tr><td>STTC auc</td><td>▁▄▅▅▇▇▇█▆█▇▇██▇▆▇▇▇▇▇█▇▇▇▇█▆▇██▆▇▆█▇▇██▇</td></tr><tr><td>STTC auprc</td><td>▁▃▄▅▆▇▇▇▅█▇▅█▇▇▅▇▆▇█▇█▇▇▇▆▇▆▆▇▇▅▇▅█▇▇█▇▆</td></tr><tr><td>epoch</td><td>▁▁▁▁▁▁▁▁▃▃▃▃▃▃▃▃▅▅▅▅▅▅▅▅▆▆▆▆▆▆▆▆████████</td></tr><tr><td>train_loss</td><td>█▆▄▅▇▅▅▅▃▁▄▅▁▄▃▅▃▄▇▄▅▃▆▄▄▆▃▃▃▄▇▄▂▃▂▂▄▂▃▃</td></tr><tr><td>val loss</td><td>█▅▄▄▂▄▄▂▃▂▄▂▃▂▂▂▂▂▂▂▂▂▂▂▂▁▂▂▂▂▂▂▂▂▁▁▁▁▁▁</td></tr></table><br/></div><div class=\"wandb-col\"><h3>Run summary:</h3><br/><table class=\"wandb\"><tr><td>CD auc</td><td>0.87074</td></tr><tr><td>CD auprc</td><td>0.66942</td></tr><tr><td>HYP auc</td><td>0.8796</td></tr><tr><td>HYP auprc</td><td>0.49371</td></tr><tr><td>MI auc</td><td>0.83594</td></tr><tr><td>MI auprc</td><td>0.57119</td></tr><tr><td>NORM auc</td><td>0.93877</td></tr><tr><td>NORM auprc</td><td>0.91576</td></tr><tr><td>STTC auc</td><td>0.90278</td></tr><tr><td>STTC auprc</td><td>0.68248</td></tr><tr><td>epoch</td><td>4</td></tr><tr><td>train_loss</td><td>0.97755</td></tr><tr><td>val loss</td><td>1.18663</td></tr></table><br/></div></div>"
            ]
          },
          "metadata": {}
        },
        {
          "output_type": "display_data",
          "data": {
            "text/plain": [
              "<IPython.core.display.HTML object>"
            ],
            "text/html": [
              "Synced <strong style=\"color:#cdcd00\">glowing-sweep-4</strong>: <a href=\"https://wandb.ai/sergi-andreu/idoven/runs/e2uu0vhg\" target=\"_blank\">https://wandb.ai/sergi-andreu/idoven/runs/e2uu0vhg</a><br/>Synced 4 W&B file(s), 0 media file(s), 0 artifact file(s) and 0 other file(s)"
            ]
          },
          "metadata": {}
        },
        {
          "output_type": "display_data",
          "data": {
            "text/plain": [
              "<IPython.core.display.HTML object>"
            ],
            "text/html": [
              "Find logs at: <code>./wandb/run-20221112_113909-e2uu0vhg/logs</code>"
            ]
          },
          "metadata": {}
        },
        {
          "output_type": "stream",
          "name": "stderr",
          "text": [
            "\u001b[34m\u001b[1mwandb\u001b[0m: Agent Starting Run: sf6b0136 with config:\n",
            "\u001b[34m\u001b[1mwandb\u001b[0m: \tepochs: 5\n",
            "\u001b[34m\u001b[1mwandb\u001b[0m: \tlog_every: 10\n",
            "\u001b[34m\u001b[1mwandb\u001b[0m: \tlr: 0.001\n",
            "\u001b[34m\u001b[1mwandb\u001b[0m: \tmodel_used: ResNet18\n",
            "Failed to detect the name of this notebook, you can set it manually with the WANDB_NOTEBOOK_NAME environment variable to enable code saving.\n"
          ]
        },
        {
          "output_type": "display_data",
          "data": {
            "text/plain": [
              "<IPython.core.display.HTML object>"
            ],
            "text/html": [
              "Tracking run with wandb version 0.13.5"
            ]
          },
          "metadata": {}
        },
        {
          "output_type": "display_data",
          "data": {
            "text/plain": [
              "<IPython.core.display.HTML object>"
            ],
            "text/html": [
              "Run data is saved locally in <code>/content/wandb/run-20221112_114323-sf6b0136</code>"
            ]
          },
          "metadata": {}
        },
        {
          "output_type": "display_data",
          "data": {
            "text/plain": [
              "<IPython.core.display.HTML object>"
            ],
            "text/html": [
              "Syncing run <strong><a href=\"https://wandb.ai/sergi-andreu/idoven/runs/sf6b0136\" target=\"_blank\">floral-sweep-5</a></strong> to <a href=\"https://wandb.ai/sergi-andreu/idoven\" target=\"_blank\">Weights & Biases</a> (<a href=\"https://wandb.me/run\" target=\"_blank\">docs</a>)<br/>Sweep page:  <a href=\"https://wandb.ai/sergi-andreu/idoven/sweeps/g0nr5xgv\" target=\"_blank\">https://wandb.ai/sergi-andreu/idoven/sweeps/g0nr5xgv</a>"
            ]
          },
          "metadata": {}
        },
        {
          "output_type": "display_data",
          "data": {
            "text/plain": [
              "<IPython.core.display.HTML object>"
            ],
            "text/html": [
              "Waiting for W&B process to finish... <strong style=\"color:green\">(success).</strong>"
            ]
          },
          "metadata": {}
        },
        {
          "output_type": "display_data",
          "data": {
            "text/plain": [
              "VBox(children=(Label(value='0.153 MB of 0.153 MB uploaded (0.000 MB deduped)\\r'), FloatProgress(value=1.0, max…"
            ],
            "application/vnd.jupyter.widget-view+json": {
              "version_major": 2,
              "version_minor": 0,
              "model_id": "a0f44c74b8854a889912904bf9f726b8"
            }
          },
          "metadata": {}
        },
        {
          "output_type": "display_data",
          "data": {
            "text/plain": [
              "<IPython.core.display.HTML object>"
            ],
            "text/html": [
              "<style>\n",
              "    table.wandb td:nth-child(1) { padding: 0 10px; text-align: left ; width: auto;} td:nth-child(2) {text-align: left ; width: 100%}\n",
              "    .wandb-row { display: flex; flex-direction: row; flex-wrap: wrap; justify-content: flex-start; width: 100% }\n",
              "    .wandb-col { display: flex; flex-direction: column; flex-basis: 100%; flex: 1; padding: 10px; }\n",
              "    </style>\n",
              "<div class=\"wandb-row\"><div class=\"wandb-col\"><h3>Run history:</h3><br/><table class=\"wandb\"><tr><td>CD auc</td><td>▄▂▃▅▅▅▄▁▆▅▅▆▄▇▅▇▇▅▆▅▇▇▅▅▄▇▇▆▇▅▇▅▅█▆▅▇▇▆▆</td></tr><tr><td>CD auprc</td><td>▃▂▃▅▆▅▅▁▆▅▆▆▄▇▅▇▇▅▅▄▆▇▆▃▄▆▇▆▆▅▆▄▄█▆▄▇▆▅▅</td></tr><tr><td>HYP auc</td><td>▁▅▅▆▆▇▆▆▇▅▇▇▇▆▇▆▇▆▇▇▇▇▇▇▇▇▇▇▇█▇█▇▇██▇▇▇█</td></tr><tr><td>HYP auprc</td><td>▁▃▄▅▄▇▄▅▄▃▆▄▄▄▅▄▅▄▆▄▅▅▅▆▅▄▄▅▄█▅▅▅▆▆▅▇▄▄▆</td></tr><tr><td>MI auc</td><td>▃▁▆▆▄▄▇▇▂▇▆▇▆▆▇▄▅▇▆▇▇▇▆▇█▆▆▇▅▇▇██▇▇▇█▆█▇</td></tr><tr><td>MI auprc</td><td>▁▁▅▄▃▃▅▅▁▄▄▄▄▄▄▃▄▇▄▅▅▆▄▅▆▅▄▅▃▆▅█▇▅▄▅█▄▆▅</td></tr><tr><td>NORM auc</td><td>▁▅▇▇▇▇▇▇▇▇████▇▇████████████████████████</td></tr><tr><td>NORM auprc</td><td>▁▄▇▆▇▇▇▆▇▆▇▇██▇▇███████████▇██▇████████▇</td></tr><tr><td>STTC auc</td><td>▁▆▇█▇█▇▇█▇▇██▇█▇█▇▇██▇▇█████▇████▇▇█████</td></tr><tr><td>STTC auprc</td><td>▁▄▆▇▇█▆▇█▆▆█▇▆█▆▇▆▅▇▇▅▆▇▇▇▇█▅▇▇▇▇▆▆█▇█▇▇</td></tr><tr><td>epoch</td><td>▁▁▁▁▁▁▁▁▃▃▃▃▃▃▃▃▅▅▅▅▅▅▅▅▆▆▆▆▆▆▆▆████████</td></tr><tr><td>train_loss</td><td>█▆▄▅▇▄▃▆▄▆▄▄▅▅▇▄▅▃▄▅▆▃▂▅▆▃▄▁▃▅▄▆▂▅▄▃▄▁▄▄</td></tr><tr><td>val loss</td><td>█▂▁▁▁▁▁▁▁▁▁▁▁▁▁▁▁▁▁▁▁▁▁▁▁▁▁▁▁▁▁▁▁▁▁▁▁▁▁▁</td></tr></table><br/></div><div class=\"wandb-col\"><h3>Run summary:</h3><br/><table class=\"wandb\"><tr><td>CD auc</td><td>0.82463</td></tr><tr><td>CD auprc</td><td>0.59373</td></tr><tr><td>HYP auc</td><td>0.87835</td></tr><tr><td>HYP auprc</td><td>0.48256</td></tr><tr><td>MI auc</td><td>0.85309</td></tr><tr><td>MI auprc</td><td>0.57481</td></tr><tr><td>NORM auc</td><td>0.93424</td></tr><tr><td>NORM auprc</td><td>0.90727</td></tr><tr><td>STTC auc</td><td>0.89602</td></tr><tr><td>STTC auprc</td><td>0.70232</td></tr><tr><td>epoch</td><td>4</td></tr><tr><td>train_loss</td><td>1.17539</td></tr><tr><td>val loss</td><td>1.20514</td></tr></table><br/></div></div>"
            ]
          },
          "metadata": {}
        },
        {
          "output_type": "display_data",
          "data": {
            "text/plain": [
              "<IPython.core.display.HTML object>"
            ],
            "text/html": [
              "Synced <strong style=\"color:#cdcd00\">floral-sweep-5</strong>: <a href=\"https://wandb.ai/sergi-andreu/idoven/runs/sf6b0136\" target=\"_blank\">https://wandb.ai/sergi-andreu/idoven/runs/sf6b0136</a><br/>Synced 4 W&B file(s), 0 media file(s), 0 artifact file(s) and 0 other file(s)"
            ]
          },
          "metadata": {}
        },
        {
          "output_type": "display_data",
          "data": {
            "text/plain": [
              "<IPython.core.display.HTML object>"
            ],
            "text/html": [
              "Find logs at: <code>./wandb/run-20221112_114323-sf6b0136/logs</code>"
            ]
          },
          "metadata": {}
        },
        {
          "output_type": "stream",
          "name": "stderr",
          "text": [
            "\u001b[34m\u001b[1mwandb\u001b[0m: Sweep Agent: Waiting for job.\n",
            "\u001b[34m\u001b[1mwandb\u001b[0m: Sweep Agent: Exiting.\n"
          ]
        }
      ]
    },
    {
      "cell_type": "markdown",
      "source": [
        "The results are now stored in my Wandb project. Some plots may be added in the readme file of the repository."
      ],
      "metadata": {
        "id": "OThlMWqQFDhc"
      }
    }
  ]
}
