{
 "cells": [
  {
   "cell_type": "code",
   "execution_count": null,
   "id": "10832eec-9a4f-4658-8e7a-7d5c77a05a08",
   "metadata": {},
   "outputs": [],
   "source": [
    "import pandas as pd\n",
    "import numpy as np\n",
    "import wfdb\n",
    "import ast"
   ]
  },
  {
   "cell_type": "code",
   "execution_count": null,
   "id": "ea70d6f5-2eb7-4f9f-9878-e8f3f834d6c7",
   "metadata": {},
   "outputs": [],
   "source": [
    "# load and convert annotation data\n",
    "path = \"data/\"\n",
    "Y = pd.read_csv(path+'ptbxl_database.csv', index_col='ecg_id')\n",
    "Y.scp_codes = Y.scp_codes.apply(lambda x: ast.literal_eval(x))\n",
    "\n",
    "# Load scp_statements.csv for diagnostic aggregation\n",
    "agg_df = pd.read_csv(path+'scp_statements.csv', index_col=0)\n",
    "agg_df = agg_df[agg_df.diagnostic == 1]\n",
    "\n",
    "def load_raw_data(df, path):\n",
    "    data = [wfdb.rdsamp(path+f) for f in df.filename_lr]\n",
    "    return data\n",
    "\n",
    "X = load_raw_data(Y, path)"
   ]
  },
  {
   "cell_type": "code",
   "execution_count": null,
   "id": "3227ed2e-5fa8-400f-8585-66af81316b4f",
   "metadata": {},
   "outputs": [],
   "source": [
    "for i in range(1, 11):\n",
    "    name = f\"data/nparrays/{str(i).zfill(2)}\"\n",
    "    X_train = X[np.where(Y.strat_fold == i)]\n",
    "    np.save(name, X_train)"
   ]
  }
 ],
 "metadata": {
  "kernelspec": {
   "display_name": "Python [conda env:torch] *",
   "language": "python",
   "name": "conda-env-torch-py"
  },
  "language_info": {
   "codemirror_mode": {
    "name": "ipython",
    "version": 3
   },
   "file_extension": ".py",
   "mimetype": "text/x-python",
   "name": "python",
   "nbconvert_exporter": "python",
   "pygments_lexer": "ipython3",
   "version": "3.8.13"
  }
 },
 "nbformat": 4,
 "nbformat_minor": 5
}
